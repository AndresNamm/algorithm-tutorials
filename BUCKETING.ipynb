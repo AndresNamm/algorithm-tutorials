{
 "cells": [
  {
   "cell_type": "markdown",
   "metadata": {},
   "source": [
    "# INTRO\n",
    "\n",
    "Bucketing is taking the input array with length n and dividing it into k buckets based on some function. It is useful for example when you want to divide your processing into k parallelizable tasks or get some overview for the data. In this example we are going to look at bucketing when you have values in an array in the scale 1..n or k..n.\n",
    "\n",
    "\n",
    "\n",
    "+ [WHAT IS BUCKETING FOR MACHINE LEARNING](https://developers.google.com/machine-learning/data-prep/transform/bucketing)\n",
    "+ [BUCKETING GENERAL CONCEPT](https://www8.cs.umu.se/kurser/TDBAfl/VT06/algorithms/BOOK/BOOK/NODE36.HTM)"
   ]
  },
  {
   "cell_type": "markdown",
   "metadata": {},
   "source": [
    "# BUCKETING FUNCTIONS EXPLANATIONS AND EXAMPLES"
   ]
  },
  {
   "cell_type": "markdown",
   "metadata": {
    "pycharm": {
     "name": "#%% md\n"
    }
   },
   "source": [
    "**All the bucket functions use floor function**"
   ]
  },
  {
   "cell_type": "markdown",
   "metadata": {},
   "source": [
    "+ **arr** = input array \n",
    "+ **i** = index in arr, i $\\in [0..n-1]$\n",
    "+ **val** = arr[i]\n",
    "+ **n** = len(arr) = length of array\n",
    "+ **k** = how many buckets we are going to have\n",
    "+ **buckets (array)**= array with k buckets filled with elements from arr"
   ]
  },
  {
   "cell_type": "markdown",
   "metadata": {},
   "source": [
    "## BUCKETING FUNCTION 1"
   ]
  },
  {
   "cell_type": "markdown",
   "metadata": {},
   "source": [
    "**Formula: $floor(\\frac{val}{n+1}*k)$, where $val=arr[i]$**"
   ]
  },
  {
   "cell_type": "markdown",
   "metadata": {
    "pycharm": {
     "is_executing": false,
     "name": "#%% md\n"
    }
   },
   "source": [
    "**The division is done with n+1 because**\n",
    "\n",
    "+ When we use n instead of n+1 **then** floor($\\frac{n}{n}*k$) = k. This can happen only 1 time with max value so the last bucket in buckets array would be unbalanced. This is also an issue because when we create an array with length k, the last element we can index is k-1."
   ]
  },
  {
   "cell_type": "code",
   "execution_count": 27,
   "metadata": {
    "pycharm": {
     "is_executing": false,
     "name": "#%%\n"
    }
   },
   "outputs": [],
   "source": [
    "import plotly.plotly as py\n",
    "import plotly.graph_objs as go\n",
    "from math import floor\n",
    "# buckets based on values\n",
    "# buckets assumes an array \n",
    "\n",
    "def bucketer_1(arr,k):   \n",
    "    buckets = [[] for i in range(k)]\n",
    "    max_val = max(arr)\n",
    "    for val in arr:\n",
    "        idx=floor(val/(max_val+1)*k)\n",
    "        buckets[idx].append(val)\n",
    "    return buckets\n",
    "\n",
    "\n"
   ]
  },
  {
   "cell_type": "markdown",
   "metadata": {},
   "source": [
    "## BUCKETING FUNCTION 2"
   ]
  },
  {
   "cell_type": "markdown",
   "metadata": {},
   "source": [
    "**Formula: $floor(\\frac{val}{n}*k-1)$, where $val=arr[i]$**"
   ]
  },
  {
   "cell_type": "code",
   "execution_count": 2,
   "metadata": {
    "pycharm": {
     "is_executing": false,
     "name": "#%%\n"
    }
   },
   "outputs": [],
   "source": [
    "def bucketer_2(arr,k):   \n",
    "    buckets = [[] for i in range(k)]\n",
    "    max_val = max(arr)\n",
    "    for val in arr:\n",
    "        idx=floor(val/(max_val)*(k-1))\n",
    "        buckets[idx].append(val)\n",
    "    return buckets\n",
    "\n",
    "\n"
   ]
  },
  {
   "cell_type": "markdown",
   "metadata": {},
   "source": [
    "## SIMPLE TEST FOR BOTH OF THE FUNCTIONS"
   ]
  },
  {
   "cell_type": "code",
   "execution_count": 7,
   "metadata": {
    "pycharm": {
     "name": "#%%\n"
    }
   },
   "outputs": [],
   "source": [
    "# UTILYT FUNCTION RETURNS AN ARRAY WITH VALUES [MIN_V..MAX_V]\n",
    "def test_function(min_v,max_v, k, method):\n",
    "    arr = [i for i in range(min_v,max_v+1)]\n",
    "    return method(arr, k) "
   ]
  },
  {
   "cell_type": "code",
   "execution_count": 8,
   "metadata": {
    "pycharm": {
     "is_executing": false,
     "name": "#%%\n"
    }
   },
   "outputs": [
    {
     "name": "stdout",
     "output_type": "stream",
     "text": [
      "[[1, 2, 3, 4], [5, 6, 7, 8], [9, 10, 11, 12]]\n",
      "[[1, 2, 3, 4, 5], [6, 7, 8, 9, 10, 11], [12]]\n"
     ]
    }
   ],
   "source": [
    "all_functions=[bucketer_1,bucketer_2]\n",
    "\n",
    "for func in all_functions:\n",
    "    print(test_function(min_v=1,max_v=12,k=3,method=func))\n",
    "    "
   ]
  },
  {
   "cell_type": "markdown",
   "metadata": {},
   "source": [
    "**This function generates an array and applies the specified method (method) to \n",
    "bucket the input array into k (method_k) buckets**"
   ]
  },
  {
   "cell_type": "markdown",
   "metadata": {},
   "source": [
    "# BUCKETING FUNCTION COMPARISON WITH PLOTLY"
   ]
  },
  {
   "cell_type": "markdown",
   "metadata": {},
   "source": [
    "Here we are going to visualize bucketer_1 and bucketer_2 functions bucketing the data from 1..n into k buckets. One subplot is going to hold barchart for 2 functions with different colors. We are going to show multiple plots\n",
    "\n"
   ]
  },
  {
   "cell_type": "code",
   "execution_count": 3,
   "metadata": {},
   "outputs": [],
   "source": [
    "# GENERATE BUCKET DIVISIONS WITH INPUT ARRAY SIZE [1..start,..,1..end]. 2 BUCKETS ARE GOING TO BE CREATED FOR EACH ARRAY\n",
    "def generate_buckets(start,end):\n",
    "    for i in range(start,end):\n",
    "        buckets1=test_function(1,i,k,bucketer_1)\n",
    "        buckets2=test_function(1,i,k,bucketer_2)\n",
    "        all_buckets.append([buckets1,buckets2])\n",
    "    return all_buckets"
   ]
  },
  {
   "cell_type": "markdown",
   "metadata": {},
   "source": [
    "**Tutorials used to create these plots**\n",
    "\n",
    "+ [1 LEGEND MULTIPLE PLOT TRACES](https://plot.ly/python/legend/#grouped-legend)\n",
    "+ [PYTHON SUBPLOTS](https://plot.ly/python/subplots/)"
   ]
  },
  {
   "cell_type": "code",
   "execution_count": 4,
   "metadata": {},
   "outputs": [
    {
     "data": {
      "text/html": [
       "        <script type=\"text/javascript\">\n",
       "        window.PlotlyConfig = {MathJaxConfig: 'local'};\n",
       "        if (window.MathJax) {MathJax.Hub.Config({SVG: {font: \"STIX-Web\"}});}\n",
       "        if (typeof require !== 'undefined') {\n",
       "        require.undef(\"plotly\");\n",
       "        requirejs.config({\n",
       "            paths: {\n",
       "                'plotly': ['https://cdn.plot.ly/plotly-latest.min']\n",
       "            }\n",
       "        });\n",
       "        require(['plotly'], function(Plotly) {\n",
       "            window._Plotly = Plotly;\n",
       "        });\n",
       "        }\n",
       "        </script>\n",
       "        "
      ]
     },
     "metadata": {},
     "output_type": "display_data"
    }
   ],
   "source": [
    "# IMPORT LIBRARIES\n",
    "from plotly.offline import download_plotlyjs, init_notebook_mode, plot, iplot\n",
    "import plotly.graph_objs \n",
    "inline_jupyter=True\n",
    "init_notebook_mode(connected=inline_jupyter)\n",
    "from plotly import tools"
   ]
  },
  {
   "cell_type": "code",
   "execution_count": 9,
   "metadata": {},
   "outputs": [
    {
     "name": "stdout",
     "output_type": "stream",
     "text": [
      "This is the format of your plot grid:\n",
      "[ (1,1) x1,y1 ]  [ (1,2) x2,y2 ]  [ (1,3) x3,y3 ]\n",
      "[ (2,1) x4,y4 ]  [ (2,2) x5,y5 ]  [ (2,3) x6,y6 ]\n",
      "[ (3,1) x7,y7 ]  [ (3,2) x8,y8 ]  [ (3,3) x9,y9 ]\n",
      "\n"
     ]
    },
    {
     "data": {
      "application/vnd.plotly.v1+json": {
       "config": {
        "linkText": "Export to plot.ly",
        "plotlyServerURL": "https://plot.ly",
        "showLink": false
       },
       "data": [
        {
         "legendgroup": "group",
         "marker": {
          "color": "rgb(158,202,225)",
          "line": {
           "color": "rgb(8,48,107)",
           "width": 1.5
          }
         },
         "name": "idx=floor(val/(n+1)*k)",
         "showlegend": true,
         "type": "bar",
         "uid": "6a24ea94-75e7-4a76-a871-746c64f2ad1f",
         "x": [
          0,
          1,
          2
         ],
         "xaxis": "x",
         "y": [
          3,
          4,
          3
         ],
         "yaxis": "y"
        },
        {
         "legendgroup": "group2",
         "marker": {
          "color": "rgb(255,0,225)",
          "line": {
           "color": "rgb(8,48,107)",
           "width": 1.5
          }
         },
         "name": "idx=floor(val/(n)*(k-1))",
         "showlegend": true,
         "type": "bar",
         "uid": "c8684ad9-a81b-441e-b2ae-98f051e55b04",
         "x": [
          0,
          1,
          2
         ],
         "xaxis": "x",
         "y": [
          4,
          5,
          1
         ],
         "yaxis": "y"
        },
        {
         "legendgroup": "group",
         "marker": {
          "color": "rgb(158,202,225)",
          "line": {
           "color": "rgb(8,48,107)",
           "width": 1.5
          }
         },
         "name": "idx=floor(val/(n+1)*k)",
         "showlegend": false,
         "type": "bar",
         "uid": "472b7b74-a4bf-40d3-ba79-d74fc9326c2e",
         "x": [
          0,
          1,
          2
         ],
         "xaxis": "x2",
         "y": [
          3,
          4,
          4
         ],
         "yaxis": "y2"
        },
        {
         "legendgroup": "group2",
         "marker": {
          "color": "rgb(255,0,225)",
          "line": {
           "color": "rgb(8,48,107)",
           "width": 1.5
          }
         },
         "name": "idx=floor(val/(n)*(k-1))",
         "showlegend": false,
         "type": "bar",
         "uid": "7a79d784-c661-4fd2-bd32-11b72212314c",
         "x": [
          0,
          1,
          2
         ],
         "xaxis": "x2",
         "y": [
          5,
          5,
          1
         ],
         "yaxis": "y2"
        },
        {
         "legendgroup": "group",
         "marker": {
          "color": "rgb(158,202,225)",
          "line": {
           "color": "rgb(8,48,107)",
           "width": 1.5
          }
         },
         "name": "idx=floor(val/(n+1)*k)",
         "showlegend": false,
         "type": "bar",
         "uid": "f0b22578-26f8-48c3-9d1c-5bdb21010c6d",
         "x": [
          0,
          1,
          2
         ],
         "xaxis": "x3",
         "y": [
          4,
          4,
          4
         ],
         "yaxis": "y3"
        },
        {
         "legendgroup": "group2",
         "marker": {
          "color": "rgb(255,0,225)",
          "line": {
           "color": "rgb(8,48,107)",
           "width": 1.5
          }
         },
         "name": "idx=floor(val/(n)*(k-1))",
         "showlegend": false,
         "type": "bar",
         "uid": "f7aafbc3-4826-4b67-ac94-41d5521b507b",
         "x": [
          0,
          1,
          2
         ],
         "xaxis": "x3",
         "y": [
          5,
          6,
          1
         ],
         "yaxis": "y3"
        },
        {
         "legendgroup": "group",
         "marker": {
          "color": "rgb(158,202,225)",
          "line": {
           "color": "rgb(8,48,107)",
           "width": 1.5
          }
         },
         "name": "idx=floor(val/(n+1)*k)",
         "showlegend": false,
         "type": "bar",
         "uid": "37af0e48-6e99-4820-aaa4-0ffd94156bac",
         "x": [
          0,
          1,
          2
         ],
         "xaxis": "x4",
         "y": [
          4,
          5,
          4
         ],
         "yaxis": "y4"
        },
        {
         "legendgroup": "group2",
         "marker": {
          "color": "rgb(255,0,225)",
          "line": {
           "color": "rgb(8,48,107)",
           "width": 1.5
          }
         },
         "name": "idx=floor(val/(n)*(k-1))",
         "showlegend": false,
         "type": "bar",
         "uid": "7061a4ab-26f2-4d77-8d10-e2e42908596e",
         "x": [
          0,
          1,
          2
         ],
         "xaxis": "x4",
         "y": [
          6,
          6,
          1
         ],
         "yaxis": "y4"
        },
        {
         "legendgroup": "group",
         "marker": {
          "color": "rgb(158,202,225)",
          "line": {
           "color": "rgb(8,48,107)",
           "width": 1.5
          }
         },
         "name": "idx=floor(val/(n+1)*k)",
         "showlegend": false,
         "type": "bar",
         "uid": "ec04bc1a-af55-4fd2-807c-b9434bface12",
         "x": [
          0,
          1,
          2
         ],
         "xaxis": "x5",
         "y": [
          4,
          5,
          5
         ],
         "yaxis": "y5"
        },
        {
         "legendgroup": "group2",
         "marker": {
          "color": "rgb(255,0,225)",
          "line": {
           "color": "rgb(8,48,107)",
           "width": 1.5
          }
         },
         "name": "idx=floor(val/(n)*(k-1))",
         "showlegend": false,
         "type": "bar",
         "uid": "f266e693-bb7a-4d80-b9a4-14ddd2a5a50c",
         "x": [
          0,
          1,
          2
         ],
         "xaxis": "x5",
         "y": [
          6,
          7,
          1
         ],
         "yaxis": "y5"
        },
        {
         "legendgroup": "group",
         "marker": {
          "color": "rgb(158,202,225)",
          "line": {
           "color": "rgb(8,48,107)",
           "width": 1.5
          }
         },
         "name": "idx=floor(val/(n+1)*k)",
         "showlegend": false,
         "type": "bar",
         "uid": "dc536e55-edcb-4c1f-8dba-daef3ddd5199",
         "x": [
          0,
          1,
          2
         ],
         "xaxis": "x6",
         "y": [
          5,
          5,
          5
         ],
         "yaxis": "y6"
        },
        {
         "legendgroup": "group2",
         "marker": {
          "color": "rgb(255,0,225)",
          "line": {
           "color": "rgb(8,48,107)",
           "width": 1.5
          }
         },
         "name": "idx=floor(val/(n)*(k-1))",
         "showlegend": false,
         "type": "bar",
         "uid": "4c69fe7d-738d-4c57-926a-304bdc487b3d",
         "x": [
          0,
          1,
          2
         ],
         "xaxis": "x6",
         "y": [
          7,
          7,
          1
         ],
         "yaxis": "y6"
        },
        {
         "legendgroup": "group",
         "marker": {
          "color": "rgb(158,202,225)",
          "line": {
           "color": "rgb(8,48,107)",
           "width": 1.5
          }
         },
         "name": "idx=floor(val/(n+1)*k)",
         "showlegend": false,
         "type": "bar",
         "uid": "e6690324-2d08-4152-a0d6-9c5c015c5074",
         "x": [
          0,
          1,
          2
         ],
         "xaxis": "x7",
         "y": [
          5,
          6,
          5
         ],
         "yaxis": "y7"
        },
        {
         "legendgroup": "group2",
         "marker": {
          "color": "rgb(255,0,225)",
          "line": {
           "color": "rgb(8,48,107)",
           "width": 1.5
          }
         },
         "name": "idx=floor(val/(n)*(k-1))",
         "showlegend": false,
         "type": "bar",
         "uid": "dd05649d-eb10-4f2f-84d6-789a23b58b43",
         "x": [
          0,
          1,
          2
         ],
         "xaxis": "x7",
         "y": [
          7,
          8,
          1
         ],
         "yaxis": "y7"
        },
        {
         "legendgroup": "group",
         "marker": {
          "color": "rgb(158,202,225)",
          "line": {
           "color": "rgb(8,48,107)",
           "width": 1.5
          }
         },
         "name": "idx=floor(val/(n+1)*k)",
         "showlegend": false,
         "type": "bar",
         "uid": "ad18780f-7044-4503-8620-653eb978caf1",
         "x": [
          0,
          1,
          2
         ],
         "xaxis": "x8",
         "y": [
          5,
          6,
          6
         ],
         "yaxis": "y8"
        },
        {
         "legendgroup": "group2",
         "marker": {
          "color": "rgb(255,0,225)",
          "line": {
           "color": "rgb(8,48,107)",
           "width": 1.5
          }
         },
         "name": "idx=floor(val/(n)*(k-1))",
         "showlegend": false,
         "type": "bar",
         "uid": "a1dcf12f-b547-454d-87f9-c1d993fdce88",
         "x": [
          0,
          1,
          2
         ],
         "xaxis": "x8",
         "y": [
          8,
          8,
          1
         ],
         "yaxis": "y8"
        },
        {
         "legendgroup": "group",
         "marker": {
          "color": "rgb(158,202,225)",
          "line": {
           "color": "rgb(8,48,107)",
           "width": 1.5
          }
         },
         "name": "idx=floor(val/(n+1)*k)",
         "showlegend": false,
         "type": "bar",
         "uid": "e65cee29-20dc-4a6d-8442-408722b32e9e",
         "x": [
          0,
          1,
          2
         ],
         "xaxis": "x9",
         "y": [
          6,
          6,
          6
         ],
         "yaxis": "y9"
        },
        {
         "legendgroup": "group2",
         "marker": {
          "color": "rgb(255,0,225)",
          "line": {
           "color": "rgb(8,48,107)",
           "width": 1.5
          }
         },
         "name": "idx=floor(val/(n)*(k-1))",
         "showlegend": false,
         "type": "bar",
         "uid": "2f0abacb-bbb6-4345-9da6-3107923f0535",
         "x": [
          0,
          1,
          2
         ],
         "xaxis": "x9",
         "y": [
          8,
          9,
          1
         ],
         "yaxis": "y9"
        }
       ],
       "layout": {
        "annotations": [
         {
          "font": {
           "size": 16
          },
          "showarrow": false,
          "text": "k=3,n=10",
          "x": 0.14444444444444446,
          "xanchor": "center",
          "xref": "paper",
          "y": 1,
          "yanchor": "bottom",
          "yref": "paper"
         },
         {
          "font": {
           "size": 16
          },
          "showarrow": false,
          "text": "k=3,n=11",
          "x": 0.5,
          "xanchor": "center",
          "xref": "paper",
          "y": 1,
          "yanchor": "bottom",
          "yref": "paper"
         },
         {
          "font": {
           "size": 16
          },
          "showarrow": false,
          "text": "k=3,n=12",
          "x": 0.8555555555555556,
          "xanchor": "center",
          "xref": "paper",
          "y": 1,
          "yanchor": "bottom",
          "yref": "paper"
         },
         {
          "font": {
           "size": 16
          },
          "showarrow": false,
          "text": "k=3,n=13",
          "x": 0.14444444444444446,
          "xanchor": "center",
          "xref": "paper",
          "y": 0.6111111111111112,
          "yanchor": "bottom",
          "yref": "paper"
         },
         {
          "font": {
           "size": 16
          },
          "showarrow": false,
          "text": "k=3,n=14",
          "x": 0.5,
          "xanchor": "center",
          "xref": "paper",
          "y": 0.6111111111111112,
          "yanchor": "bottom",
          "yref": "paper"
         },
         {
          "font": {
           "size": 16
          },
          "showarrow": false,
          "text": "k=3,n=15",
          "x": 0.8555555555555556,
          "xanchor": "center",
          "xref": "paper",
          "y": 0.6111111111111112,
          "yanchor": "bottom",
          "yref": "paper"
         },
         {
          "font": {
           "size": 16
          },
          "showarrow": false,
          "text": "k=3,n=16",
          "x": 0.14444444444444446,
          "xanchor": "center",
          "xref": "paper",
          "y": 0.22222222222222224,
          "yanchor": "bottom",
          "yref": "paper"
         },
         {
          "font": {
           "size": 16
          },
          "showarrow": false,
          "text": "k=3,n=17",
          "x": 0.5,
          "xanchor": "center",
          "xref": "paper",
          "y": 0.22222222222222224,
          "yanchor": "bottom",
          "yref": "paper"
         },
         {
          "font": {
           "size": 16
          },
          "showarrow": false,
          "text": "k=3,n=18",
          "x": 0.8555555555555556,
          "xanchor": "center",
          "xref": "paper",
          "y": 0.22222222222222224,
          "yanchor": "bottom",
          "yref": "paper"
         }
        ],
        "title": {
         "text": "Bucketing function comparison"
        },
        "xaxis": {
         "anchor": "y",
         "domain": [
          0,
          0.2888888888888889
         ],
         "dtick": 1
        },
        "xaxis2": {
         "anchor": "y2",
         "domain": [
          0.35555555555555557,
          0.6444444444444445
         ],
         "dtick": 1
        },
        "xaxis3": {
         "anchor": "y3",
         "domain": [
          0.7111111111111111,
          1
         ],
         "dtick": 1
        },
        "xaxis4": {
         "anchor": "y4",
         "domain": [
          0,
          0.2888888888888889
         ],
         "dtick": 1
        },
        "xaxis5": {
         "anchor": "y5",
         "domain": [
          0.35555555555555557,
          0.6444444444444445
         ],
         "dtick": 1
        },
        "xaxis6": {
         "anchor": "y6",
         "domain": [
          0.7111111111111111,
          1
         ],
         "dtick": 1
        },
        "xaxis7": {
         "anchor": "y7",
         "domain": [
          0,
          0.2888888888888889
         ],
         "dtick": 1
        },
        "xaxis8": {
         "anchor": "y8",
         "domain": [
          0.35555555555555557,
          0.6444444444444445
         ],
         "dtick": 1
        },
        "xaxis9": {
         "anchor": "y9",
         "domain": [
          0.7111111111111111,
          1
         ],
         "dtick": 1
        },
        "yaxis": {
         "anchor": "x",
         "domain": [
          0.7777777777777778,
          1
         ],
         "dtick": 1
        },
        "yaxis2": {
         "anchor": "x2",
         "domain": [
          0.7777777777777778,
          1
         ],
         "dtick": 1
        },
        "yaxis3": {
         "anchor": "x3",
         "domain": [
          0.7777777777777778,
          1
         ],
         "dtick": 1
        },
        "yaxis4": {
         "anchor": "x4",
         "domain": [
          0.3888888888888889,
          0.6111111111111112
         ],
         "dtick": 1
        },
        "yaxis5": {
         "anchor": "x5",
         "domain": [
          0.3888888888888889,
          0.6111111111111112
         ],
         "dtick": 1
        },
        "yaxis6": {
         "anchor": "x6",
         "domain": [
          0.3888888888888889,
          0.6111111111111112
         ],
         "dtick": 1
        },
        "yaxis7": {
         "anchor": "x7",
         "domain": [
          0,
          0.22222222222222224
         ],
         "dtick": 1
        },
        "yaxis8": {
         "anchor": "x8",
         "domain": [
          0,
          0.22222222222222224
         ],
         "dtick": 1
        },
        "yaxis9": {
         "anchor": "x9",
         "domain": [
          0,
          0.22222222222222224
         ],
         "dtick": 1
        }
       }
      },
      "text/html": [
       "<div>\n",
       "        \n",
       "        \n",
       "            <div id=\"a45ef049-799a-4c1a-9daf-1d78315079cc\" class=\"plotly-graph-div\" style=\"height:525px; width:100%;\"></div>\n",
       "            <script type=\"text/javascript\">\n",
       "                require([\"plotly\"], function(Plotly) {\n",
       "                    window.PLOTLYENV=window.PLOTLYENV || {};\n",
       "                    window.PLOTLYENV.BASE_URL='https://plot.ly';\n",
       "                    \n",
       "                if (document.getElementById(\"a45ef049-799a-4c1a-9daf-1d78315079cc\")) {\n",
       "                    Plotly.newPlot(\n",
       "                        'a45ef049-799a-4c1a-9daf-1d78315079cc',\n",
       "                        [{\"legendgroup\": \"group\", \"marker\": {\"color\": \"rgb(158,202,225)\", \"line\": {\"color\": \"rgb(8,48,107)\", \"width\": 1.5}}, \"name\": \"idx=floor(val/(n+1)*k)\", \"showlegend\": true, \"type\": \"bar\", \"uid\": \"6a24ea94-75e7-4a76-a871-746c64f2ad1f\", \"x\": [0, 1, 2], \"xaxis\": \"x\", \"y\": [3, 4, 3], \"yaxis\": \"y\"}, {\"legendgroup\": \"group2\", \"marker\": {\"color\": \"rgb(255,0,225)\", \"line\": {\"color\": \"rgb(8,48,107)\", \"width\": 1.5}}, \"name\": \"idx=floor(val/(n)*(k-1))\", \"showlegend\": true, \"type\": \"bar\", \"uid\": \"c8684ad9-a81b-441e-b2ae-98f051e55b04\", \"x\": [0, 1, 2], \"xaxis\": \"x\", \"y\": [4, 5, 1], \"yaxis\": \"y\"}, {\"legendgroup\": \"group\", \"marker\": {\"color\": \"rgb(158,202,225)\", \"line\": {\"color\": \"rgb(8,48,107)\", \"width\": 1.5}}, \"name\": \"idx=floor(val/(n+1)*k)\", \"showlegend\": false, \"type\": \"bar\", \"uid\": \"472b7b74-a4bf-40d3-ba79-d74fc9326c2e\", \"x\": [0, 1, 2], \"xaxis\": \"x2\", \"y\": [3, 4, 4], \"yaxis\": \"y2\"}, {\"legendgroup\": \"group2\", \"marker\": {\"color\": \"rgb(255,0,225)\", \"line\": {\"color\": \"rgb(8,48,107)\", \"width\": 1.5}}, \"name\": \"idx=floor(val/(n)*(k-1))\", \"showlegend\": false, \"type\": \"bar\", \"uid\": \"7a79d784-c661-4fd2-bd32-11b72212314c\", \"x\": [0, 1, 2], \"xaxis\": \"x2\", \"y\": [5, 5, 1], \"yaxis\": \"y2\"}, {\"legendgroup\": \"group\", \"marker\": {\"color\": \"rgb(158,202,225)\", \"line\": {\"color\": \"rgb(8,48,107)\", \"width\": 1.5}}, \"name\": \"idx=floor(val/(n+1)*k)\", \"showlegend\": false, \"type\": \"bar\", \"uid\": \"f0b22578-26f8-48c3-9d1c-5bdb21010c6d\", \"x\": [0, 1, 2], \"xaxis\": \"x3\", \"y\": [4, 4, 4], \"yaxis\": \"y3\"}, {\"legendgroup\": \"group2\", \"marker\": {\"color\": \"rgb(255,0,225)\", \"line\": {\"color\": \"rgb(8,48,107)\", \"width\": 1.5}}, \"name\": \"idx=floor(val/(n)*(k-1))\", \"showlegend\": false, \"type\": \"bar\", \"uid\": \"f7aafbc3-4826-4b67-ac94-41d5521b507b\", \"x\": [0, 1, 2], \"xaxis\": \"x3\", \"y\": [5, 6, 1], \"yaxis\": \"y3\"}, {\"legendgroup\": \"group\", \"marker\": {\"color\": \"rgb(158,202,225)\", \"line\": {\"color\": \"rgb(8,48,107)\", \"width\": 1.5}}, \"name\": \"idx=floor(val/(n+1)*k)\", \"showlegend\": false, \"type\": \"bar\", \"uid\": \"37af0e48-6e99-4820-aaa4-0ffd94156bac\", \"x\": [0, 1, 2], \"xaxis\": \"x4\", \"y\": [4, 5, 4], \"yaxis\": \"y4\"}, {\"legendgroup\": \"group2\", \"marker\": {\"color\": \"rgb(255,0,225)\", \"line\": {\"color\": \"rgb(8,48,107)\", \"width\": 1.5}}, \"name\": \"idx=floor(val/(n)*(k-1))\", \"showlegend\": false, \"type\": \"bar\", \"uid\": \"7061a4ab-26f2-4d77-8d10-e2e42908596e\", \"x\": [0, 1, 2], \"xaxis\": \"x4\", \"y\": [6, 6, 1], \"yaxis\": \"y4\"}, {\"legendgroup\": \"group\", \"marker\": {\"color\": \"rgb(158,202,225)\", \"line\": {\"color\": \"rgb(8,48,107)\", \"width\": 1.5}}, \"name\": \"idx=floor(val/(n+1)*k)\", \"showlegend\": false, \"type\": \"bar\", \"uid\": \"ec04bc1a-af55-4fd2-807c-b9434bface12\", \"x\": [0, 1, 2], \"xaxis\": \"x5\", \"y\": [4, 5, 5], \"yaxis\": \"y5\"}, {\"legendgroup\": \"group2\", \"marker\": {\"color\": \"rgb(255,0,225)\", \"line\": {\"color\": \"rgb(8,48,107)\", \"width\": 1.5}}, \"name\": \"idx=floor(val/(n)*(k-1))\", \"showlegend\": false, \"type\": \"bar\", \"uid\": \"f266e693-bb7a-4d80-b9a4-14ddd2a5a50c\", \"x\": [0, 1, 2], \"xaxis\": \"x5\", \"y\": [6, 7, 1], \"yaxis\": \"y5\"}, {\"legendgroup\": \"group\", \"marker\": {\"color\": \"rgb(158,202,225)\", \"line\": {\"color\": \"rgb(8,48,107)\", \"width\": 1.5}}, \"name\": \"idx=floor(val/(n+1)*k)\", \"showlegend\": false, \"type\": \"bar\", \"uid\": \"dc536e55-edcb-4c1f-8dba-daef3ddd5199\", \"x\": [0, 1, 2], \"xaxis\": \"x6\", \"y\": [5, 5, 5], \"yaxis\": \"y6\"}, {\"legendgroup\": \"group2\", \"marker\": {\"color\": \"rgb(255,0,225)\", \"line\": {\"color\": \"rgb(8,48,107)\", \"width\": 1.5}}, \"name\": \"idx=floor(val/(n)*(k-1))\", \"showlegend\": false, \"type\": \"bar\", \"uid\": \"4c69fe7d-738d-4c57-926a-304bdc487b3d\", \"x\": [0, 1, 2], \"xaxis\": \"x6\", \"y\": [7, 7, 1], \"yaxis\": \"y6\"}, {\"legendgroup\": \"group\", \"marker\": {\"color\": \"rgb(158,202,225)\", \"line\": {\"color\": \"rgb(8,48,107)\", \"width\": 1.5}}, \"name\": \"idx=floor(val/(n+1)*k)\", \"showlegend\": false, \"type\": \"bar\", \"uid\": \"e6690324-2d08-4152-a0d6-9c5c015c5074\", \"x\": [0, 1, 2], \"xaxis\": \"x7\", \"y\": [5, 6, 5], \"yaxis\": \"y7\"}, {\"legendgroup\": \"group2\", \"marker\": {\"color\": \"rgb(255,0,225)\", \"line\": {\"color\": \"rgb(8,48,107)\", \"width\": 1.5}}, \"name\": \"idx=floor(val/(n)*(k-1))\", \"showlegend\": false, \"type\": \"bar\", \"uid\": \"dd05649d-eb10-4f2f-84d6-789a23b58b43\", \"x\": [0, 1, 2], \"xaxis\": \"x7\", \"y\": [7, 8, 1], \"yaxis\": \"y7\"}, {\"legendgroup\": \"group\", \"marker\": {\"color\": \"rgb(158,202,225)\", \"line\": {\"color\": \"rgb(8,48,107)\", \"width\": 1.5}}, \"name\": \"idx=floor(val/(n+1)*k)\", \"showlegend\": false, \"type\": \"bar\", \"uid\": \"ad18780f-7044-4503-8620-653eb978caf1\", \"x\": [0, 1, 2], \"xaxis\": \"x8\", \"y\": [5, 6, 6], \"yaxis\": \"y8\"}, {\"legendgroup\": \"group2\", \"marker\": {\"color\": \"rgb(255,0,225)\", \"line\": {\"color\": \"rgb(8,48,107)\", \"width\": 1.5}}, \"name\": \"idx=floor(val/(n)*(k-1))\", \"showlegend\": false, \"type\": \"bar\", \"uid\": \"a1dcf12f-b547-454d-87f9-c1d993fdce88\", \"x\": [0, 1, 2], \"xaxis\": \"x8\", \"y\": [8, 8, 1], \"yaxis\": \"y8\"}, {\"legendgroup\": \"group\", \"marker\": {\"color\": \"rgb(158,202,225)\", \"line\": {\"color\": \"rgb(8,48,107)\", \"width\": 1.5}}, \"name\": \"idx=floor(val/(n+1)*k)\", \"showlegend\": false, \"type\": \"bar\", \"uid\": \"e65cee29-20dc-4a6d-8442-408722b32e9e\", \"x\": [0, 1, 2], \"xaxis\": \"x9\", \"y\": [6, 6, 6], \"yaxis\": \"y9\"}, {\"legendgroup\": \"group2\", \"marker\": {\"color\": \"rgb(255,0,225)\", \"line\": {\"color\": \"rgb(8,48,107)\", \"width\": 1.5}}, \"name\": \"idx=floor(val/(n)*(k-1))\", \"showlegend\": false, \"type\": \"bar\", \"uid\": \"2f0abacb-bbb6-4345-9da6-3107923f0535\", \"x\": [0, 1, 2], \"xaxis\": \"x9\", \"y\": [8, 9, 1], \"yaxis\": \"y9\"}],\n",
       "                        {\"annotations\": [{\"font\": {\"size\": 16}, \"showarrow\": false, \"text\": \"k=3,n=10\", \"x\": 0.14444444444444446, \"xanchor\": \"center\", \"xref\": \"paper\", \"y\": 1.0, \"yanchor\": \"bottom\", \"yref\": \"paper\"}, {\"font\": {\"size\": 16}, \"showarrow\": false, \"text\": \"k=3,n=11\", \"x\": 0.5, \"xanchor\": \"center\", \"xref\": \"paper\", \"y\": 1.0, \"yanchor\": \"bottom\", \"yref\": \"paper\"}, {\"font\": {\"size\": 16}, \"showarrow\": false, \"text\": \"k=3,n=12\", \"x\": 0.8555555555555556, \"xanchor\": \"center\", \"xref\": \"paper\", \"y\": 1.0, \"yanchor\": \"bottom\", \"yref\": \"paper\"}, {\"font\": {\"size\": 16}, \"showarrow\": false, \"text\": \"k=3,n=13\", \"x\": 0.14444444444444446, \"xanchor\": \"center\", \"xref\": \"paper\", \"y\": 0.6111111111111112, \"yanchor\": \"bottom\", \"yref\": \"paper\"}, {\"font\": {\"size\": 16}, \"showarrow\": false, \"text\": \"k=3,n=14\", \"x\": 0.5, \"xanchor\": \"center\", \"xref\": \"paper\", \"y\": 0.6111111111111112, \"yanchor\": \"bottom\", \"yref\": \"paper\"}, {\"font\": {\"size\": 16}, \"showarrow\": false, \"text\": \"k=3,n=15\", \"x\": 0.8555555555555556, \"xanchor\": \"center\", \"xref\": \"paper\", \"y\": 0.6111111111111112, \"yanchor\": \"bottom\", \"yref\": \"paper\"}, {\"font\": {\"size\": 16}, \"showarrow\": false, \"text\": \"k=3,n=16\", \"x\": 0.14444444444444446, \"xanchor\": \"center\", \"xref\": \"paper\", \"y\": 0.22222222222222224, \"yanchor\": \"bottom\", \"yref\": \"paper\"}, {\"font\": {\"size\": 16}, \"showarrow\": false, \"text\": \"k=3,n=17\", \"x\": 0.5, \"xanchor\": \"center\", \"xref\": \"paper\", \"y\": 0.22222222222222224, \"yanchor\": \"bottom\", \"yref\": \"paper\"}, {\"font\": {\"size\": 16}, \"showarrow\": false, \"text\": \"k=3,n=18\", \"x\": 0.8555555555555556, \"xanchor\": \"center\", \"xref\": \"paper\", \"y\": 0.22222222222222224, \"yanchor\": \"bottom\", \"yref\": \"paper\"}], \"title\": {\"text\": \"Bucketing function comparison\"}, \"xaxis\": {\"anchor\": \"y\", \"domain\": [0.0, 0.2888888888888889], \"dtick\": 1}, \"xaxis2\": {\"anchor\": \"y2\", \"domain\": [0.35555555555555557, 0.6444444444444445], \"dtick\": 1}, \"xaxis3\": {\"anchor\": \"y3\", \"domain\": [0.7111111111111111, 1.0], \"dtick\": 1}, \"xaxis4\": {\"anchor\": \"y4\", \"domain\": [0.0, 0.2888888888888889], \"dtick\": 1}, \"xaxis5\": {\"anchor\": \"y5\", \"domain\": [0.35555555555555557, 0.6444444444444445], \"dtick\": 1}, \"xaxis6\": {\"anchor\": \"y6\", \"domain\": [0.7111111111111111, 1.0], \"dtick\": 1}, \"xaxis7\": {\"anchor\": \"y7\", \"domain\": [0.0, 0.2888888888888889], \"dtick\": 1}, \"xaxis8\": {\"anchor\": \"y8\", \"domain\": [0.35555555555555557, 0.6444444444444445], \"dtick\": 1}, \"xaxis9\": {\"anchor\": \"y9\", \"domain\": [0.7111111111111111, 1.0], \"dtick\": 1}, \"yaxis\": {\"anchor\": \"x\", \"domain\": [0.7777777777777778, 1.0], \"dtick\": 1}, \"yaxis2\": {\"anchor\": \"x2\", \"domain\": [0.7777777777777778, 1.0], \"dtick\": 1}, \"yaxis3\": {\"anchor\": \"x3\", \"domain\": [0.7777777777777778, 1.0], \"dtick\": 1}, \"yaxis4\": {\"anchor\": \"x4\", \"domain\": [0.3888888888888889, 0.6111111111111112], \"dtick\": 1}, \"yaxis5\": {\"anchor\": \"x5\", \"domain\": [0.3888888888888889, 0.6111111111111112], \"dtick\": 1}, \"yaxis6\": {\"anchor\": \"x6\", \"domain\": [0.3888888888888889, 0.6111111111111112], \"dtick\": 1}, \"yaxis7\": {\"anchor\": \"x7\", \"domain\": [0.0, 0.22222222222222224], \"dtick\": 1}, \"yaxis8\": {\"anchor\": \"x8\", \"domain\": [0.0, 0.22222222222222224], \"dtick\": 1}, \"yaxis9\": {\"anchor\": \"x9\", \"domain\": [0.0, 0.22222222222222224], \"dtick\": 1}},\n",
       "                        {\"showLink\": false, \"linkText\": \"Export to plot.ly\", \"plotlyServerURL\": \"https://plot.ly\", \"responsive\": true}\n",
       "                    ).then(function(){\n",
       "                            \n",
       "var gd = document.getElementById('a45ef049-799a-4c1a-9daf-1d78315079cc');\n",
       "var x = new MutationObserver(function (mutations, observer) {{\n",
       "        var display = window.getComputedStyle(gd).display;\n",
       "        if (!display || display === 'none') {{\n",
       "            console.log([gd, 'removed!']);\n",
       "            Plotly.purge(gd);\n",
       "            observer.disconnect();\n",
       "        }}\n",
       "}});\n",
       "\n",
       "// Listen for the removal of the full notebook cells\n",
       "var notebookContainer = gd.closest('#notebook-container');\n",
       "if (notebookContainer) {{\n",
       "    x.observe(notebookContainer, {childList: true});\n",
       "}}\n",
       "\n",
       "// Listen for the clearing of the current output cell\n",
       "var outputEl = gd.closest('.output');\n",
       "if (outputEl) {{\n",
       "    x.observe(outputEl, {childList: true});\n",
       "}}\n",
       "\n",
       "                        })\n",
       "                };\n",
       "                });\n",
       "            </script>\n",
       "        </div>"
      ]
     },
     "metadata": {},
     "output_type": "display_data"
    }
   ],
   "source": [
    "from math import ceil,floor\n",
    "# r: rows, c: columns,k: buckets,n: bucket size, start: first n\n",
    "# we are going to have r*c buckets\n",
    "r=3\n",
    "c=3\n",
    "k=3\n",
    "start=10\n",
    "end=start+r*c\n",
    "all_buckets=[]\n",
    "\n",
    "\n",
    "# GENERATE end-start examples BUCKETS WITH BOTH BUCKET FUNCTIONS \n",
    "\n",
    "all_buckets=generate_buckets(start,end)\n",
    "\n",
    "# GENERATE BASIS FOR THE PLOTS, THE PLOT WILL HAVE R*C subplots\n",
    "\n",
    "subplot_titles=[\"k={},n={}\".format(k,start+i)  for i in range(r*c)]\n",
    "fig = tools.make_subplots(rows=r,cols=c,subplot_titles=subplot_titles)\n",
    "fig['layout'].update(title=\"Bucketing function comparison\")\n",
    "\n",
    "    \n",
    "# LOOP THROUGH ALL THE BUCKET PAIRS \n",
    "for i, buckets in enumerate(all_buckets):\n",
    "    \n",
    "    input1,input2=buckets\n",
    "    x_input1=[i for i in range(len(input1))]\n",
    "    y_input1=[len(i) for i in input1]\n",
    "    x_input2=[i for i in range(len(input2))]\n",
    "    y_input2=[len(i) for i in input2]\n",
    "    \n",
    "    # SHOW LEGEND ONLY FOR 1.st PLOT\n",
    "    showlegend= True if i == 0 else False\n",
    "    \n",
    "    \n",
    "    # GENERATE BARS FOR THE PLOT, KEEP BAR1 bars IN ITS OWN GROUP AND BAR2 IN ITS OWN GROUP\n",
    "    bar1=go.Bar(x=x_input1,\\\n",
    "                y=y_input1,\\\n",
    "                legendgroup='group',\\\n",
    "                name='idx=floor(val/(n+1)*k)',\\\n",
    "                showlegend=showlegend,\n",
    "                marker=dict(\\\n",
    "                            color='rgb(158,202,225)',\n",
    "                            line=dict(\\\n",
    "                                      color='rgb(8,48,107)',\\\n",
    "                                      width=1.5,\n",
    "                                     )\n",
    "                           )\n",
    "               )\n",
    "    \n",
    "    bar2=go.Bar(x=x_input2, \n",
    "                y=y_input2,\\\n",
    "                legendgroup='group2',\\\n",
    "                name='idx=floor(val/(n)*(k-1))',\\\n",
    "                showlegend=showlegend,\\\n",
    "                marker=dict(\\\n",
    "                            color='rgb(255,0,225)',\\\n",
    "                            line=dict(\\\n",
    "                                      color='rgb(8,48,107)',\\\n",
    "                                      width=1.5,\n",
    "                                     )       \n",
    "                           )\n",
    "               )\n",
    "    \n",
    "    \n",
    "    \n",
    "    \n",
    "    \n",
    "    # CHOOSE ROW BASED ON INDEX DIVISION BY COL, AND COLUMN BASED ON INDEX MODULUS DIVISION BY COL\n",
    "    current_row=ceil((i+1)/c)\n",
    "    current_col=(i)%c +1 \n",
    "    \n",
    "    # APPEN BARS TO CHARS\n",
    "    fig.append_trace(bar1,current_row,current_col)\n",
    "    fig.append_trace(bar2,current_row,current_col)\n",
    "   \n",
    "#fig['layout'].update(xaxis1=dict(dtick=1),xaxis2=dict(dtick=1))\n",
    "\n",
    "# UPDATE X,Y dticks to 10 on all subplots\n",
    "for i in range(1,r*c+1):\n",
    "    fig['layout']['xaxis{}'.format(i)].update(dtick=1)\n",
    "    fig['layout']['yaxis{}'.format(i)].update(dtick=1)\n",
    "\n",
    "    \n",
    "# SHOW THE GENERATED PLOT\n",
    "\n",
    "iplot(fig)\n",
    "    \n",
    "    "
   ]
  },
  {
   "cell_type": "markdown",
   "metadata": {},
   "source": [
    "**From this point on we are going to use only the first bucketing formula**: \n",
    "floor($$\\frac{val}{n+1}*k$$)"
   ]
  },
  {
   "cell_type": "markdown",
   "metadata": {},
   "source": [
    "# BUCKETING FUNCTION MAX, MIN NUMBER OF ELEMENTS IN EACH BUCKET"
   ]
  },
  {
   "cell_type": "markdown",
   "metadata": {},
   "source": [
    "If we did divide arr [1..n] to k elements with formula $floor(\\frac{val}{n+1}*k)$   \n",
    "\n",
    "\n",
    "+ The value is placed in the **0 bucket** if\n",
    "  + floor($\\frac{val}{n+1}*k) = 0 \\Rightarrow \\frac{val}{n+1}*k<1 \\Rightarrow \\frac{val}{n+1}<\\frac{1}{k} \\Rightarrow \\bf{ val<1*\\frac{(n+1)}{k}}$\n",
    "+ The value is placed in the **1 bucket** if\n",
    "  + floor($\\frac{val}{n+1}*k) = 1 \\Rightarrow \\frac{val}{n+1}*k<2 \\Rightarrow \\frac{val}{n+1}<\\frac{2}{k} \\Rightarrow \\bf{ val<2*\\frac{(n+1)}{k}}$\n",
    "+ The value is placed in the **2 bucket** if\n",
    "  + floor($\\frac{val}{n+1}*k) = 2 \\Rightarrow \\frac{val}{n+1}*k<3 \\Rightarrow\\frac{val}{n+1}<\\frac{3}{k} \\Rightarrow \\bf{ val<3*\\frac{(n+1)}{k}}$\n",
    "\n",
    "+ .......\n",
    "+ The value is placed in the **(k-1)-th bucket** if\n",
    "  + floor($\\frac{val}{n+1}*k) = k-1 \\Rightarrow \\frac{val}{n+1}*k<k \\Rightarrow \\frac{val}{n+1}<\\frac{k}{k} \\Rightarrow \\bf{ val<k*\\frac{(n+1)}{k}=n+1}$\n",
    "\n",
    "\n",
    "\n",
    "\n"
   ]
  },
  {
   "cell_type": "markdown",
   "metadata": {},
   "source": [
    "As we can see the values between 1..n are divided into buckets so that each bucket is \n",
    "with size $\\frac{n+1}{k}$. This division might produce an int but can also produces a bucket size like 3.3 or 5.6. \n",
    "If we have to place linearly growing ints into these buckets then it might be that some buckets are goint to have more elements than others. For example if $\\frac{n+1}{k}=5.6$. Then buckets are going to have elements: \n",
    "\n",
    "1. [0..5] - 5.6 - 6 elements, 6-0\n",
    "2. [6..11] - 11.2 - 6 elements,12-6\n",
    "3. [12..16] - 16.8 - 5 elements,17-12\n",
    "5. [17..22] - 22.4 - 6 elements,23-17\n",
    "6. ...\n",
    "\n",
    "If you look at this array carefully you can see that the amount of integers in bucket can be \n",
    "floor(5.6) or ceil(5.6). That comes from the part after the comma delimiter ( in this case **0.6** from 5.**6** ). The part after comma delimiter can add up to 1 extra integer inside buckets. \n",
    "\n",
    "The formula to calculate each Bucket supposed max nr of integers in case it would have as an input an equaly divided linear array with 0 is\n",
    "\n",
    "$ceil((i+1)*(\\frac{n+1}{k}))-ceil((i)*(\\frac{n+1}{k}))$  \n"
   ]
  },
  {
   "cell_type": "markdown",
   "metadata": {},
   "source": [
    "**This is an example of caluclating the supposed bucket sizes**"
   ]
  },
  {
   "cell_type": "code",
   "execution_count": 11,
   "metadata": {},
   "outputs": [
    {
     "name": "stdout",
     "output_type": "stream",
     "text": [
      "max_nr: 80\n",
      "k: 8\n",
      "max_nr+1/k: 10.125\n",
      "[0,11), total number of elements 11\n",
      "[11,21), total number of elements 10\n",
      "[21,31), total number of elements 10\n",
      "[31,41), total number of elements 10\n",
      "[41,51), total number of elements 10\n",
      "[51,61), total number of elements 10\n",
      "[61,71), total number of elements 10\n",
      "[71,81), total number of elements 10\n"
     ]
    }
   ],
   "source": [
    "from math import floor, ceil\n",
    "def bucket_calculator(max_nr,k):\n",
    "    print(\"max_nr: {}\".format(max_nr))\n",
    "    print(\"k: {}\".format(k))\n",
    "    print(\"max_nr+1/k: {}\".format((max_nr+1)/k))\n",
    "    dividor=(max_nr+1)/k\n",
    "    cnt={i:0 for i in range(k)}\n",
    "    check_cnt={i:0 for i in range(1,k)}\n",
    "    for i in range(0,k):\n",
    "        max_el=ceil((i+1)*dividor)\n",
    "        min_nr=ceil((i)*dividor)\n",
    "        # HERE IT MIGHT HAPPEN THAT max_el - min_el\n",
    "        print(\"[{},{}), total number of elements {}\".format(min_nr, max_el,max_el-min_nr))\n",
    "        check_cnt[i]=ceil((i+1)*dividor)-ceil((i)*dividor)\n",
    "    for i in range(max_nr):\n",
    "        bucket_index=floor(i/(max_nr+1)*k)\n",
    "        cnt[bucket_index]+=1\n",
    "        \n",
    "bucket_calculator(80,8)\n",
    "        \n",
    "    \n",
    "    "
   ]
  },
  {
   "cell_type": "code",
   "execution_count": 13,
   "metadata": {},
   "outputs": [
    {
     "name": "stdout",
     "output_type": "stream",
     "text": [
      "This is the format of your plot grid:\n",
      "[ (1,1) x1,y1 ]    [ (1,2) x2,y2 ]    [ (1,3) x3,y3 ]  \n",
      "[ (2,1) x4,y4 ]    [ (2,2) x5,y5 ]    [ (2,3) x6,y6 ]  \n",
      "[ (3,1) x7,y7 ]    [ (3,2) x8,y8 ]    [ (3,3) x9,y9 ]  \n",
      "[ (4,1) x10,y10 ]  [ (4,2) x11,y11 ]  [ (4,3) x12,y12 ]\n",
      "\n"
     ]
    },
    {
     "data": {
      "application/vnd.plotly.v1+json": {
       "config": {
        "linkText": "Export to plot.ly",
        "plotlyServerURL": "https://plot.ly",
        "showLink": false
       },
       "data": [
        {
         "legendgroup": "group",
         "marker": {
          "color": "rgb(158,202,225)",
          "line": {
           "color": "rgb(8,48,107)",
           "width": 1.5
          }
         },
         "name": "idx=floor(val/(n+1)*k)",
         "showlegend": true,
         "type": "bar",
         "uid": "03d4bcfe-a4f5-448a-94a9-309b859c00ba",
         "x": [
          0,
          1,
          2
         ],
         "xaxis": "x",
         "y": [
          6,
          7,
          7
         ],
         "yaxis": "y"
        },
        {
         "legendgroup": "group",
         "marker": {
          "color": "rgb(158,202,225)",
          "line": {
           "color": "rgb(8,48,107)",
           "width": 1.5
          }
         },
         "name": "idx=floor(val/(n+1)*k)",
         "showlegend": false,
         "type": "bar",
         "uid": "bd6e75cd-160e-4427-9806-9ae1ba35a7c1",
         "x": [
          0,
          1,
          2
         ],
         "xaxis": "x2",
         "y": [
          7,
          7,
          7
         ],
         "yaxis": "y2"
        },
        {
         "legendgroup": "group",
         "marker": {
          "color": "rgb(158,202,225)",
          "line": {
           "color": "rgb(8,48,107)",
           "width": 1.5
          }
         },
         "name": "idx=floor(val/(n+1)*k)",
         "showlegend": false,
         "type": "bar",
         "uid": "228cc936-421b-4e14-b3e4-457c2f2a35b3",
         "x": [
          0,
          1,
          2
         ],
         "xaxis": "x3",
         "y": [
          7,
          8,
          7
         ],
         "yaxis": "y3"
        },
        {
         "legendgroup": "group",
         "marker": {
          "color": "rgb(158,202,225)",
          "line": {
           "color": "rgb(8,48,107)",
           "width": 1.5
          }
         },
         "name": "idx=floor(val/(n+1)*k)",
         "showlegend": false,
         "type": "bar",
         "uid": "2306fe93-118e-4c5c-8a06-489d5c8215df",
         "x": [
          0,
          1,
          2
         ],
         "xaxis": "x4",
         "y": [
          7,
          8,
          8
         ],
         "yaxis": "y4"
        },
        {
         "legendgroup": "group",
         "marker": {
          "color": "rgb(158,202,225)",
          "line": {
           "color": "rgb(8,48,107)",
           "width": 1.5
          }
         },
         "name": "idx=floor(val/(n+1)*k)",
         "showlegend": false,
         "type": "bar",
         "uid": "8db82fa0-3f81-4bb1-b12b-245e00570d9e",
         "x": [
          0,
          1,
          2
         ],
         "xaxis": "x5",
         "y": [
          8,
          8,
          8
         ],
         "yaxis": "y5"
        },
        {
         "legendgroup": "group",
         "marker": {
          "color": "rgb(158,202,225)",
          "line": {
           "color": "rgb(8,48,107)",
           "width": 1.5
          }
         },
         "name": "idx=floor(val/(n+1)*k)",
         "showlegend": false,
         "type": "bar",
         "uid": "ba7f44fa-0eba-4687-83e4-e72a0015d761",
         "x": [
          0,
          1,
          2
         ],
         "xaxis": "x6",
         "y": [
          8,
          9,
          8
         ],
         "yaxis": "y6"
        },
        {
         "legendgroup": "group",
         "marker": {
          "color": "rgb(158,202,225)",
          "line": {
           "color": "rgb(8,48,107)",
           "width": 1.5
          }
         },
         "name": "idx=floor(val/(n+1)*k)",
         "showlegend": false,
         "type": "bar",
         "uid": "29087609-ef33-4e08-af69-420192073e2c",
         "x": [
          0,
          1,
          2
         ],
         "xaxis": "x7",
         "y": [
          8,
          9,
          9
         ],
         "yaxis": "y7"
        },
        {
         "legendgroup": "group",
         "marker": {
          "color": "rgb(158,202,225)",
          "line": {
           "color": "rgb(8,48,107)",
           "width": 1.5
          }
         },
         "name": "idx=floor(val/(n+1)*k)",
         "showlegend": false,
         "type": "bar",
         "uid": "d3d1b777-c8a9-4d65-ad62-bbeb9eaee9f7",
         "x": [
          0,
          1,
          2
         ],
         "xaxis": "x8",
         "y": [
          9,
          9,
          9
         ],
         "yaxis": "y8"
        },
        {
         "legendgroup": "group",
         "marker": {
          "color": "rgb(158,202,225)",
          "line": {
           "color": "rgb(8,48,107)",
           "width": 1.5
          }
         },
         "name": "idx=floor(val/(n+1)*k)",
         "showlegend": false,
         "type": "bar",
         "uid": "41847d96-a14a-485e-8c63-4cda5758bef5",
         "x": [
          0,
          1,
          2
         ],
         "xaxis": "x9",
         "y": [
          9,
          10,
          9
         ],
         "yaxis": "y9"
        },
        {
         "legendgroup": "group",
         "marker": {
          "color": "rgb(158,202,225)",
          "line": {
           "color": "rgb(8,48,107)",
           "width": 1.5
          }
         },
         "name": "idx=floor(val/(n+1)*k)",
         "showlegend": false,
         "type": "bar",
         "uid": "2a2aa96c-ef6f-4e52-aabc-f6bfd063f26a",
         "x": [
          0,
          1,
          2
         ],
         "xaxis": "x10",
         "y": [
          9,
          10,
          10
         ],
         "yaxis": "y10"
        },
        {
         "legendgroup": "group",
         "marker": {
          "color": "rgb(158,202,225)",
          "line": {
           "color": "rgb(8,48,107)",
           "width": 1.5
          }
         },
         "name": "idx=floor(val/(n+1)*k)",
         "showlegend": false,
         "type": "bar",
         "uid": "b9889f5f-2ee2-473f-b982-41096fa3e87b",
         "x": [
          0,
          1,
          2
         ],
         "xaxis": "x11",
         "y": [
          10,
          10,
          10
         ],
         "yaxis": "y11"
        },
        {
         "legendgroup": "group",
         "marker": {
          "color": "rgb(158,202,225)",
          "line": {
           "color": "rgb(8,48,107)",
           "width": 1.5
          }
         },
         "name": "idx=floor(val/(n+1)*k)",
         "showlegend": false,
         "type": "bar",
         "uid": "26f50437-c967-4cc6-9fe3-d9f221e8341f",
         "x": [
          0,
          1,
          2
         ],
         "xaxis": "x12",
         "y": [
          10,
          11,
          10
         ],
         "yaxis": "y12"
        }
       ],
       "layout": {
        "annotations": [
         {
          "font": {
           "size": 16
          },
          "showarrow": false,
          "text": "k=3,n=20",
          "x": 0.14444444444444446,
          "xanchor": "center",
          "xref": "paper",
          "y": 1,
          "yanchor": "bottom",
          "yref": "paper"
         },
         {
          "font": {
           "size": 16
          },
          "showarrow": false,
          "text": "k=3,n=21",
          "x": 0.5,
          "xanchor": "center",
          "xref": "paper",
          "y": 1,
          "yanchor": "bottom",
          "yref": "paper"
         },
         {
          "font": {
           "size": 16
          },
          "showarrow": false,
          "text": "k=3,n=22",
          "x": 0.8555555555555556,
          "xanchor": "center",
          "xref": "paper",
          "y": 1,
          "yanchor": "bottom",
          "yref": "paper"
         },
         {
          "font": {
           "size": 16
          },
          "showarrow": false,
          "text": "k=3,n=23",
          "x": 0.14444444444444446,
          "xanchor": "center",
          "xref": "paper",
          "y": 0.71875,
          "yanchor": "bottom",
          "yref": "paper"
         },
         {
          "font": {
           "size": 16
          },
          "showarrow": false,
          "text": "k=3,n=24",
          "x": 0.5,
          "xanchor": "center",
          "xref": "paper",
          "y": 0.71875,
          "yanchor": "bottom",
          "yref": "paper"
         },
         {
          "font": {
           "size": 16
          },
          "showarrow": false,
          "text": "k=3,n=25",
          "x": 0.8555555555555556,
          "xanchor": "center",
          "xref": "paper",
          "y": 0.71875,
          "yanchor": "bottom",
          "yref": "paper"
         },
         {
          "font": {
           "size": 16
          },
          "showarrow": false,
          "text": "k=3,n=26",
          "x": 0.14444444444444446,
          "xanchor": "center",
          "xref": "paper",
          "y": 0.4375,
          "yanchor": "bottom",
          "yref": "paper"
         },
         {
          "font": {
           "size": 16
          },
          "showarrow": false,
          "text": "k=3,n=27",
          "x": 0.5,
          "xanchor": "center",
          "xref": "paper",
          "y": 0.4375,
          "yanchor": "bottom",
          "yref": "paper"
         },
         {
          "font": {
           "size": 16
          },
          "showarrow": false,
          "text": "k=3,n=28",
          "x": 0.8555555555555556,
          "xanchor": "center",
          "xref": "paper",
          "y": 0.4375,
          "yanchor": "bottom",
          "yref": "paper"
         },
         {
          "font": {
           "size": 16
          },
          "showarrow": false,
          "text": "k=3,n=29",
          "x": 0.14444444444444446,
          "xanchor": "center",
          "xref": "paper",
          "y": 0.15625,
          "yanchor": "bottom",
          "yref": "paper"
         },
         {
          "font": {
           "size": 16
          },
          "showarrow": false,
          "text": "k=3,n=30",
          "x": 0.5,
          "xanchor": "center",
          "xref": "paper",
          "y": 0.15625,
          "yanchor": "bottom",
          "yref": "paper"
         },
         {
          "font": {
           "size": 16
          },
          "showarrow": false,
          "text": "k=3,n=31",
          "x": 0.8555555555555556,
          "xanchor": "center",
          "xref": "paper",
          "y": 0.15625,
          "yanchor": "bottom",
          "yref": "paper"
         }
        ],
        "title": {
         "text": "Bucketing with 3 buckets as n grows from 20 to 32"
        },
        "xaxis": {
         "anchor": "y",
         "domain": [
          0,
          0.2888888888888889
         ],
         "dtick": 1
        },
        "xaxis10": {
         "anchor": "y10",
         "domain": [
          0,
          0.2888888888888889
         ],
         "dtick": 1
        },
        "xaxis11": {
         "anchor": "y11",
         "domain": [
          0.35555555555555557,
          0.6444444444444445
         ],
         "dtick": 1
        },
        "xaxis12": {
         "anchor": "y12",
         "domain": [
          0.7111111111111111,
          1
         ],
         "dtick": 1
        },
        "xaxis2": {
         "anchor": "y2",
         "domain": [
          0.35555555555555557,
          0.6444444444444445
         ],
         "dtick": 1
        },
        "xaxis3": {
         "anchor": "y3",
         "domain": [
          0.7111111111111111,
          1
         ],
         "dtick": 1
        },
        "xaxis4": {
         "anchor": "y4",
         "domain": [
          0,
          0.2888888888888889
         ],
         "dtick": 1
        },
        "xaxis5": {
         "anchor": "y5",
         "domain": [
          0.35555555555555557,
          0.6444444444444445
         ],
         "dtick": 1
        },
        "xaxis6": {
         "anchor": "y6",
         "domain": [
          0.7111111111111111,
          1
         ],
         "dtick": 1
        },
        "xaxis7": {
         "anchor": "y7",
         "domain": [
          0,
          0.2888888888888889
         ],
         "dtick": 1
        },
        "xaxis8": {
         "anchor": "y8",
         "domain": [
          0.35555555555555557,
          0.6444444444444445
         ],
         "dtick": 1
        },
        "xaxis9": {
         "anchor": "y9",
         "domain": [
          0.7111111111111111,
          1
         ],
         "dtick": 1
        },
        "yaxis": {
         "anchor": "x",
         "domain": [
          0.84375,
          1
         ],
         "dtick": 1
        },
        "yaxis10": {
         "anchor": "x10",
         "domain": [
          0,
          0.15625
         ],
         "dtick": 1
        },
        "yaxis11": {
         "anchor": "x11",
         "domain": [
          0,
          0.15625
         ],
         "dtick": 1
        },
        "yaxis12": {
         "anchor": "x12",
         "domain": [
          0,
          0.15625
         ],
         "dtick": 1
        },
        "yaxis2": {
         "anchor": "x2",
         "domain": [
          0.84375,
          1
         ],
         "dtick": 1
        },
        "yaxis3": {
         "anchor": "x3",
         "domain": [
          0.84375,
          1
         ],
         "dtick": 1
        },
        "yaxis4": {
         "anchor": "x4",
         "domain": [
          0.5625,
          0.71875
         ],
         "dtick": 1
        },
        "yaxis5": {
         "anchor": "x5",
         "domain": [
          0.5625,
          0.71875
         ],
         "dtick": 1
        },
        "yaxis6": {
         "anchor": "x6",
         "domain": [
          0.5625,
          0.71875
         ],
         "dtick": 1
        },
        "yaxis7": {
         "anchor": "x7",
         "domain": [
          0.28125,
          0.4375
         ],
         "dtick": 1
        },
        "yaxis8": {
         "anchor": "x8",
         "domain": [
          0.28125,
          0.4375
         ],
         "dtick": 1
        },
        "yaxis9": {
         "anchor": "x9",
         "domain": [
          0.28125,
          0.4375
         ],
         "dtick": 1
        }
       }
      },
      "text/html": [
       "<div>\n",
       "        \n",
       "        \n",
       "            <div id=\"0d48da4b-b418-4fbe-9878-e9641c9c081f\" class=\"plotly-graph-div\" style=\"height:525px; width:100%;\"></div>\n",
       "            <script type=\"text/javascript\">\n",
       "                require([\"plotly\"], function(Plotly) {\n",
       "                    window.PLOTLYENV=window.PLOTLYENV || {};\n",
       "                    window.PLOTLYENV.BASE_URL='https://plot.ly';\n",
       "                    \n",
       "                if (document.getElementById(\"0d48da4b-b418-4fbe-9878-e9641c9c081f\")) {\n",
       "                    Plotly.newPlot(\n",
       "                        '0d48da4b-b418-4fbe-9878-e9641c9c081f',\n",
       "                        [{\"legendgroup\": \"group\", \"marker\": {\"color\": \"rgb(158,202,225)\", \"line\": {\"color\": \"rgb(8,48,107)\", \"width\": 1.5}}, \"name\": \"idx=floor(val/(n+1)*k)\", \"showlegend\": true, \"type\": \"bar\", \"uid\": \"03d4bcfe-a4f5-448a-94a9-309b859c00ba\", \"x\": [0, 1, 2], \"xaxis\": \"x\", \"y\": [6, 7, 7], \"yaxis\": \"y\"}, {\"legendgroup\": \"group\", \"marker\": {\"color\": \"rgb(158,202,225)\", \"line\": {\"color\": \"rgb(8,48,107)\", \"width\": 1.5}}, \"name\": \"idx=floor(val/(n+1)*k)\", \"showlegend\": false, \"type\": \"bar\", \"uid\": \"bd6e75cd-160e-4427-9806-9ae1ba35a7c1\", \"x\": [0, 1, 2], \"xaxis\": \"x2\", \"y\": [7, 7, 7], \"yaxis\": \"y2\"}, {\"legendgroup\": \"group\", \"marker\": {\"color\": \"rgb(158,202,225)\", \"line\": {\"color\": \"rgb(8,48,107)\", \"width\": 1.5}}, \"name\": \"idx=floor(val/(n+1)*k)\", \"showlegend\": false, \"type\": \"bar\", \"uid\": \"228cc936-421b-4e14-b3e4-457c2f2a35b3\", \"x\": [0, 1, 2], \"xaxis\": \"x3\", \"y\": [7, 8, 7], \"yaxis\": \"y3\"}, {\"legendgroup\": \"group\", \"marker\": {\"color\": \"rgb(158,202,225)\", \"line\": {\"color\": \"rgb(8,48,107)\", \"width\": 1.5}}, \"name\": \"idx=floor(val/(n+1)*k)\", \"showlegend\": false, \"type\": \"bar\", \"uid\": \"2306fe93-118e-4c5c-8a06-489d5c8215df\", \"x\": [0, 1, 2], \"xaxis\": \"x4\", \"y\": [7, 8, 8], \"yaxis\": \"y4\"}, {\"legendgroup\": \"group\", \"marker\": {\"color\": \"rgb(158,202,225)\", \"line\": {\"color\": \"rgb(8,48,107)\", \"width\": 1.5}}, \"name\": \"idx=floor(val/(n+1)*k)\", \"showlegend\": false, \"type\": \"bar\", \"uid\": \"8db82fa0-3f81-4bb1-b12b-245e00570d9e\", \"x\": [0, 1, 2], \"xaxis\": \"x5\", \"y\": [8, 8, 8], \"yaxis\": \"y5\"}, {\"legendgroup\": \"group\", \"marker\": {\"color\": \"rgb(158,202,225)\", \"line\": {\"color\": \"rgb(8,48,107)\", \"width\": 1.5}}, \"name\": \"idx=floor(val/(n+1)*k)\", \"showlegend\": false, \"type\": \"bar\", \"uid\": \"ba7f44fa-0eba-4687-83e4-e72a0015d761\", \"x\": [0, 1, 2], \"xaxis\": \"x6\", \"y\": [8, 9, 8], \"yaxis\": \"y6\"}, {\"legendgroup\": \"group\", \"marker\": {\"color\": \"rgb(158,202,225)\", \"line\": {\"color\": \"rgb(8,48,107)\", \"width\": 1.5}}, \"name\": \"idx=floor(val/(n+1)*k)\", \"showlegend\": false, \"type\": \"bar\", \"uid\": \"29087609-ef33-4e08-af69-420192073e2c\", \"x\": [0, 1, 2], \"xaxis\": \"x7\", \"y\": [8, 9, 9], \"yaxis\": \"y7\"}, {\"legendgroup\": \"group\", \"marker\": {\"color\": \"rgb(158,202,225)\", \"line\": {\"color\": \"rgb(8,48,107)\", \"width\": 1.5}}, \"name\": \"idx=floor(val/(n+1)*k)\", \"showlegend\": false, \"type\": \"bar\", \"uid\": \"d3d1b777-c8a9-4d65-ad62-bbeb9eaee9f7\", \"x\": [0, 1, 2], \"xaxis\": \"x8\", \"y\": [9, 9, 9], \"yaxis\": \"y8\"}, {\"legendgroup\": \"group\", \"marker\": {\"color\": \"rgb(158,202,225)\", \"line\": {\"color\": \"rgb(8,48,107)\", \"width\": 1.5}}, \"name\": \"idx=floor(val/(n+1)*k)\", \"showlegend\": false, \"type\": \"bar\", \"uid\": \"41847d96-a14a-485e-8c63-4cda5758bef5\", \"x\": [0, 1, 2], \"xaxis\": \"x9\", \"y\": [9, 10, 9], \"yaxis\": \"y9\"}, {\"legendgroup\": \"group\", \"marker\": {\"color\": \"rgb(158,202,225)\", \"line\": {\"color\": \"rgb(8,48,107)\", \"width\": 1.5}}, \"name\": \"idx=floor(val/(n+1)*k)\", \"showlegend\": false, \"type\": \"bar\", \"uid\": \"2a2aa96c-ef6f-4e52-aabc-f6bfd063f26a\", \"x\": [0, 1, 2], \"xaxis\": \"x10\", \"y\": [9, 10, 10], \"yaxis\": \"y10\"}, {\"legendgroup\": \"group\", \"marker\": {\"color\": \"rgb(158,202,225)\", \"line\": {\"color\": \"rgb(8,48,107)\", \"width\": 1.5}}, \"name\": \"idx=floor(val/(n+1)*k)\", \"showlegend\": false, \"type\": \"bar\", \"uid\": \"b9889f5f-2ee2-473f-b982-41096fa3e87b\", \"x\": [0, 1, 2], \"xaxis\": \"x11\", \"y\": [10, 10, 10], \"yaxis\": \"y11\"}, {\"legendgroup\": \"group\", \"marker\": {\"color\": \"rgb(158,202,225)\", \"line\": {\"color\": \"rgb(8,48,107)\", \"width\": 1.5}}, \"name\": \"idx=floor(val/(n+1)*k)\", \"showlegend\": false, \"type\": \"bar\", \"uid\": \"26f50437-c967-4cc6-9fe3-d9f221e8341f\", \"x\": [0, 1, 2], \"xaxis\": \"x12\", \"y\": [10, 11, 10], \"yaxis\": \"y12\"}],\n",
       "                        {\"annotations\": [{\"font\": {\"size\": 16}, \"showarrow\": false, \"text\": \"k=3,n=20\", \"x\": 0.14444444444444446, \"xanchor\": \"center\", \"xref\": \"paper\", \"y\": 1.0, \"yanchor\": \"bottom\", \"yref\": \"paper\"}, {\"font\": {\"size\": 16}, \"showarrow\": false, \"text\": \"k=3,n=21\", \"x\": 0.5, \"xanchor\": \"center\", \"xref\": \"paper\", \"y\": 1.0, \"yanchor\": \"bottom\", \"yref\": \"paper\"}, {\"font\": {\"size\": 16}, \"showarrow\": false, \"text\": \"k=3,n=22\", \"x\": 0.8555555555555556, \"xanchor\": \"center\", \"xref\": \"paper\", \"y\": 1.0, \"yanchor\": \"bottom\", \"yref\": \"paper\"}, {\"font\": {\"size\": 16}, \"showarrow\": false, \"text\": \"k=3,n=23\", \"x\": 0.14444444444444446, \"xanchor\": \"center\", \"xref\": \"paper\", \"y\": 0.71875, \"yanchor\": \"bottom\", \"yref\": \"paper\"}, {\"font\": {\"size\": 16}, \"showarrow\": false, \"text\": \"k=3,n=24\", \"x\": 0.5, \"xanchor\": \"center\", \"xref\": \"paper\", \"y\": 0.71875, \"yanchor\": \"bottom\", \"yref\": \"paper\"}, {\"font\": {\"size\": 16}, \"showarrow\": false, \"text\": \"k=3,n=25\", \"x\": 0.8555555555555556, \"xanchor\": \"center\", \"xref\": \"paper\", \"y\": 0.71875, \"yanchor\": \"bottom\", \"yref\": \"paper\"}, {\"font\": {\"size\": 16}, \"showarrow\": false, \"text\": \"k=3,n=26\", \"x\": 0.14444444444444446, \"xanchor\": \"center\", \"xref\": \"paper\", \"y\": 0.4375, \"yanchor\": \"bottom\", \"yref\": \"paper\"}, {\"font\": {\"size\": 16}, \"showarrow\": false, \"text\": \"k=3,n=27\", \"x\": 0.5, \"xanchor\": \"center\", \"xref\": \"paper\", \"y\": 0.4375, \"yanchor\": \"bottom\", \"yref\": \"paper\"}, {\"font\": {\"size\": 16}, \"showarrow\": false, \"text\": \"k=3,n=28\", \"x\": 0.8555555555555556, \"xanchor\": \"center\", \"xref\": \"paper\", \"y\": 0.4375, \"yanchor\": \"bottom\", \"yref\": \"paper\"}, {\"font\": {\"size\": 16}, \"showarrow\": false, \"text\": \"k=3,n=29\", \"x\": 0.14444444444444446, \"xanchor\": \"center\", \"xref\": \"paper\", \"y\": 0.15625, \"yanchor\": \"bottom\", \"yref\": \"paper\"}, {\"font\": {\"size\": 16}, \"showarrow\": false, \"text\": \"k=3,n=30\", \"x\": 0.5, \"xanchor\": \"center\", \"xref\": \"paper\", \"y\": 0.15625, \"yanchor\": \"bottom\", \"yref\": \"paper\"}, {\"font\": {\"size\": 16}, \"showarrow\": false, \"text\": \"k=3,n=31\", \"x\": 0.8555555555555556, \"xanchor\": \"center\", \"xref\": \"paper\", \"y\": 0.15625, \"yanchor\": \"bottom\", \"yref\": \"paper\"}], \"title\": {\"text\": \"Bucketing with 3 buckets as n grows from 20 to 32\"}, \"xaxis\": {\"anchor\": \"y\", \"domain\": [0.0, 0.2888888888888889], \"dtick\": 1}, \"xaxis10\": {\"anchor\": \"y10\", \"domain\": [0.0, 0.2888888888888889], \"dtick\": 1}, \"xaxis11\": {\"anchor\": \"y11\", \"domain\": [0.35555555555555557, 0.6444444444444445], \"dtick\": 1}, \"xaxis12\": {\"anchor\": \"y12\", \"domain\": [0.7111111111111111, 1.0], \"dtick\": 1}, \"xaxis2\": {\"anchor\": \"y2\", \"domain\": [0.35555555555555557, 0.6444444444444445], \"dtick\": 1}, \"xaxis3\": {\"anchor\": \"y3\", \"domain\": [0.7111111111111111, 1.0], \"dtick\": 1}, \"xaxis4\": {\"anchor\": \"y4\", \"domain\": [0.0, 0.2888888888888889], \"dtick\": 1}, \"xaxis5\": {\"anchor\": \"y5\", \"domain\": [0.35555555555555557, 0.6444444444444445], \"dtick\": 1}, \"xaxis6\": {\"anchor\": \"y6\", \"domain\": [0.7111111111111111, 1.0], \"dtick\": 1}, \"xaxis7\": {\"anchor\": \"y7\", \"domain\": [0.0, 0.2888888888888889], \"dtick\": 1}, \"xaxis8\": {\"anchor\": \"y8\", \"domain\": [0.35555555555555557, 0.6444444444444445], \"dtick\": 1}, \"xaxis9\": {\"anchor\": \"y9\", \"domain\": [0.7111111111111111, 1.0], \"dtick\": 1}, \"yaxis\": {\"anchor\": \"x\", \"domain\": [0.84375, 1.0], \"dtick\": 1}, \"yaxis10\": {\"anchor\": \"x10\", \"domain\": [0.0, 0.15625], \"dtick\": 1}, \"yaxis11\": {\"anchor\": \"x11\", \"domain\": [0.0, 0.15625], \"dtick\": 1}, \"yaxis12\": {\"anchor\": \"x12\", \"domain\": [0.0, 0.15625], \"dtick\": 1}, \"yaxis2\": {\"anchor\": \"x2\", \"domain\": [0.84375, 1.0], \"dtick\": 1}, \"yaxis3\": {\"anchor\": \"x3\", \"domain\": [0.84375, 1.0], \"dtick\": 1}, \"yaxis4\": {\"anchor\": \"x4\", \"domain\": [0.5625, 0.71875], \"dtick\": 1}, \"yaxis5\": {\"anchor\": \"x5\", \"domain\": [0.5625, 0.71875], \"dtick\": 1}, \"yaxis6\": {\"anchor\": \"x6\", \"domain\": [0.5625, 0.71875], \"dtick\": 1}, \"yaxis7\": {\"anchor\": \"x7\", \"domain\": [0.28125, 0.4375], \"dtick\": 1}, \"yaxis8\": {\"anchor\": \"x8\", \"domain\": [0.28125, 0.4375], \"dtick\": 1}, \"yaxis9\": {\"anchor\": \"x9\", \"domain\": [0.28125, 0.4375], \"dtick\": 1}},\n",
       "                        {\"showLink\": false, \"linkText\": \"Export to plot.ly\", \"plotlyServerURL\": \"https://plot.ly\", \"responsive\": true}\n",
       "                    ).then(function(){\n",
       "                            \n",
       "var gd = document.getElementById('0d48da4b-b418-4fbe-9878-e9641c9c081f');\n",
       "var x = new MutationObserver(function (mutations, observer) {{\n",
       "        var display = window.getComputedStyle(gd).display;\n",
       "        if (!display || display === 'none') {{\n",
       "            console.log([gd, 'removed!']);\n",
       "            Plotly.purge(gd);\n",
       "            observer.disconnect();\n",
       "        }}\n",
       "}});\n",
       "\n",
       "// Listen for the removal of the full notebook cells\n",
       "var notebookContainer = gd.closest('#notebook-container');\n",
       "if (notebookContainer) {{\n",
       "    x.observe(notebookContainer, {childList: true});\n",
       "}}\n",
       "\n",
       "// Listen for the clearing of the current output cell\n",
       "var outputEl = gd.closest('.output');\n",
       "if (outputEl) {{\n",
       "    x.observe(outputEl, {childList: true});\n",
       "}}\n",
       "\n",
       "                        })\n",
       "                };\n",
       "                });\n",
       "            </script>\n",
       "        </div>"
      ]
     },
     "metadata": {},
     "output_type": "display_data"
    }
   ],
   "source": [
    "from math import ceil,floor\n",
    "# r: rows, c: columns,k: buckets,n: bucket size, start: first n\n",
    "# we are going to have r*c buckets\n",
    "r=4\n",
    "c=3\n",
    "k=3\n",
    "start=20\n",
    "end=start+r*c\n",
    "all_buckets=[]\n",
    "\n",
    "def test_function(min_v,max_v, k, method):\n",
    "    arr = [i for i in range(min_v,max_v+1)]\n",
    "    return method(arr, k) \n",
    "\n",
    "# GENERATE end-start examples BUCKETS WITH BOTH BUCKET FUNCTIONS \n",
    "\n",
    "all_buckets=[test_function(min_v=1,max_v=i,k=3,method=bucketer_1) for i in range(start,end)]\n",
    "\n",
    "# GENERATE BASIS FOR THE PLOTS, THE PLOT WILL HAVE R*C subplots\n",
    "\n",
    "subplot_titles=[\"k={},n={}\".format(k,start+i)  for i in range(r*c)]\n",
    "fig = tools.make_subplots(rows=r,cols=c,subplot_titles=subplot_titles)\n",
    "fig['layout'].update(title=\"Bucketing with {} buckets as n grows from {} to {}\".format(k,start,end))\n",
    "\n",
    "    \n",
    "# LOOP THROUGH ALL THE BUCKET PAIRS \n",
    "for i, buckets in enumerate(all_buckets): \n",
    "    input1=buckets\n",
    "    x_input1=[i for i in range(len(input1))]\n",
    "    y_input1=[len(i) for i in input1]\n",
    "\n",
    "    # SHOW LEGEND ONLY FOR 1.st PLOT\n",
    "    showlegend= True if i == 0 else False\n",
    "    \n",
    "    \n",
    "    # GENERATE BARS FOR THE PLOT, KEEP BAR1 bars IN ITS OWN GROUP AND BAR2 IN ITS OWN GROUP\n",
    "    bar1=go.Bar(x=x_input1,\\\n",
    "                y=y_input1,\\\n",
    "                legendgroup='group',\\\n",
    "                name='idx=floor(val/(n+1)*k)',\\\n",
    "                showlegend=showlegend,\n",
    "                marker=dict(\\\n",
    "                            color='rgb(158,202,225)',\n",
    "                            line=dict(\\\n",
    "                                      color='rgb(8,48,107)',\\\n",
    "                                      width=1.5,\n",
    "                                     )\n",
    "                           )\n",
    "               )\n",
    "    \n",
    "    \n",
    "    \n",
    "    \n",
    "    # CHOOSE ROW BASED ON INDEX DIVISION BY COL, AND COLUMN BASED ON INDEX MODULUS DIVISION BY COL\n",
    "    current_row=ceil((i+1)/c)\n",
    "    current_col=(i)%c +1 \n",
    "    \n",
    "    # APPEN BARS TO CHARS\n",
    "    fig.append_trace(bar1,current_row,current_col)\n",
    "    \n",
    "#fig['layout'].update(xaxis1=dict(dtick=1),xaxis2=dict(dtick=1))\n",
    "\n",
    "# UPDATE X,Y dticks to 10 on all subplots\n",
    "for i in range(1,r*c+1):\n",
    "    fig['layout']['xaxis{}'.format(i)].update(dtick=1)\n",
    "    fig['layout']['yaxis{}'.format(i)].update(dtick=1)\n",
    "\n",
    "    \n",
    "# SHOW THE GENERATED PLOT\n",
    "\n",
    "iplot(fig)\n",
    "    \n",
    "\n",
    "\n",
    "\n"
   ]
  },
  {
   "cell_type": "markdown",
   "metadata": {},
   "source": [
    "Bucketing when the values in the array are not between [1..n] but instead [c..n] where c<n. \n",
    "In that case the floor($\\frac{val}{n+1}*k$) changes into floor($\\frac{val-c}{n+1-c}*k$). In that case you are just moving the gap [c..n] to [c-c..n-c]=[0..n-c] and performing the same operations as presented in the upper parts. "
   ]
  },
  {
   "cell_type": "markdown",
   "metadata": {},
   "source": [
    "\n",
    "In this case to get the bucket boundaries you also do (n+1-c)/k. Thus val belongs to 0 bucket if (val-c) < (n+1-c)/k"
   ]
  },
  {
   "cell_type": "code",
   "execution_count": 43,
   "metadata": {
    "scrolled": true
   },
   "outputs": [
    {
     "data": {
      "application/vnd.plotly.v1+json": {
       "config": {
        "linkText": "Export to plot.ly",
        "plotlyServerURL": "https://plot.ly",
        "showLink": false
       },
       "data": [
        {
         "type": "bar",
         "uid": "7b25ec0a-b8ab-4086-8e34-68d46d7a2a9c",
         "x": [
          0,
          1,
          2,
          3
         ],
         "y": [
          5,
          5,
          5,
          5
         ]
        }
       ],
       "layout": {
        "xaxis": {
         "dtick": 1
        }
       }
      },
      "text/html": [
       "<div>\n",
       "        \n",
       "        \n",
       "            <div id=\"a9164cda-8255-444d-932f-70364b07fb50\" class=\"plotly-graph-div\" style=\"height:525px; width:100%;\"></div>\n",
       "            <script type=\"text/javascript\">\n",
       "                require([\"plotly\"], function(Plotly) {\n",
       "                    window.PLOTLYENV=window.PLOTLYENV || {};\n",
       "                    window.PLOTLYENV.BASE_URL='https://plot.ly';\n",
       "                    \n",
       "                if (document.getElementById(\"a9164cda-8255-444d-932f-70364b07fb50\")) {\n",
       "                    Plotly.newPlot(\n",
       "                        'a9164cda-8255-444d-932f-70364b07fb50',\n",
       "                        [{\"type\": \"bar\", \"uid\": \"7b25ec0a-b8ab-4086-8e34-68d46d7a2a9c\", \"x\": [0, 1, 2, 3], \"y\": [5, 5, 5, 5]}],\n",
       "                        {\"xaxis\": {\"dtick\": 1}},\n",
       "                        {\"showLink\": false, \"linkText\": \"Export to plot.ly\", \"plotlyServerURL\": \"https://plot.ly\", \"responsive\": true}\n",
       "                    ).then(function(){\n",
       "                            \n",
       "var gd = document.getElementById('a9164cda-8255-444d-932f-70364b07fb50');\n",
       "var x = new MutationObserver(function (mutations, observer) {{\n",
       "        var display = window.getComputedStyle(gd).display;\n",
       "        if (!display || display === 'none') {{\n",
       "            console.log([gd, 'removed!']);\n",
       "            Plotly.purge(gd);\n",
       "            observer.disconnect();\n",
       "        }}\n",
       "}});\n",
       "\n",
       "// Listen for the removal of the full notebook cells\n",
       "var notebookContainer = gd.closest('#notebook-container');\n",
       "if (notebookContainer) {{\n",
       "    x.observe(notebookContainer, {childList: true});\n",
       "}}\n",
       "\n",
       "// Listen for the clearing of the current output cell\n",
       "var outputEl = gd.closest('.output');\n",
       "if (outputEl) {{\n",
       "    x.observe(outputEl, {childList: true});\n",
       "}}\n",
       "\n",
       "                        })\n",
       "                };\n",
       "                });\n",
       "            </script>\n",
       "        </div>"
      ]
     },
     "metadata": {},
     "output_type": "display_data"
    }
   ],
   "source": [
    "def bucketer_improved(arr,k):\n",
    "    min_element=min(arr)\n",
    "    max_element=max(arr)\n",
    "    buckets=[[] for i in range(k)]\n",
    "    for i in arr:\n",
    "        b_indx=floor((i-min_element)/(max_element+1-min_element)*k) \n",
    "        buckets[b_indx].append(i)\n",
    "\n",
    "        \n",
    "    bar1=[go.Bar(\n",
    "            x=[i for i in range(k)],\n",
    "            y=[len(buckets[i]) for i in range(k)]\n",
    "    )]\n",
    "    \n",
    "    fig = go.Figure(bar1) \n",
    "    #fig.update(dtick=1)\n",
    "    fig.update_xaxes(dtick=1)\n",
    "\n",
    "    #fig.update_layout(xaxis=dict(dtick=1))\n",
    "    #fig.update(xaxis=dict(dtick=1))\n",
    "    iplot(fig)\n",
    "\n",
    "\n",
    "\n",
    "\n",
    "bucketer_improved(arr=[i for i in range(10,30)],k=4) "
   ]
  },
  {
   "cell_type": "code",
   "execution_count": null,
   "metadata": {},
   "outputs": [],
   "source": []
  }
 ],
 "metadata": {
  "kernelspec": {
   "display_name": "Python 3",
   "language": "python",
   "name": "python3"
  },
  "language_info": {
   "codemirror_mode": {
    "name": "ipython",
    "version": 3
   },
   "file_extension": ".py",
   "mimetype": "text/x-python",
   "name": "python",
   "nbconvert_exporter": "python",
   "pygments_lexer": "ipython3",
   "version": "3.7.4"
  },
  "pycharm": {
   "stem_cell": {
    "cell_type": "raw",
    "metadata": {
     "collapsed": false
    },
    "source": []
   }
  }
 },
 "nbformat": 4,
 "nbformat_minor": 1
}
