{
 "cells": [
  {
   "cell_type": "markdown",
   "metadata": {},
   "source": [
    "# INTRO\n",
    "\n",
    "Bucketing is taking the input array with length n and dividing it into k buckets based on some function. It is useful for example when you want to divide your processing into k parallelizable tasks or get some overview for the data. In this example we are going to look at bucketing when you have values in an array in the scale 1..n or k..n.\n",
    "\n",
    "\n",
    "\n",
    "+ [WHAT IS BUCKETING FOR MACHINE LEARNING](https://developers.google.com/machine-learning/data-prep/transform/bucketing)\n",
    "+ [BUCKETING GENERAL CONCEPT](https://www8.cs.umu.se/kurser/TDBAfl/VT06/algorithms/BOOK/BOOK/NODE36.HTM)"
   ]
  },
  {
   "cell_type": "markdown",
   "metadata": {},
   "source": [
    "# BUCKETING FUNCTIONS EXPLANATIONS AND EXAMPLES"
   ]
  },
  {
   "cell_type": "markdown",
   "metadata": {
    "pycharm": {
     "name": "#%% md\n"
    }
   },
   "source": [
    "**All the bucket functions use floor function**"
   ]
  },
  {
   "cell_type": "markdown",
   "metadata": {},
   "source": [
    "+ **arr** = input array \n",
    "+ **i** = index in arr, i $\\in [0..n-1]$\n",
    "+ **val** = arr[i]\n",
    "+ **n** = len(arr) = length of array\n",
    "+ **k** = how many buckets we are going to have\n",
    "+ **buckets (array)**= array with k buckets filled with elements from arr"
   ]
  },
  {
   "cell_type": "markdown",
   "metadata": {},
   "source": [
    "## BUCKETING FUNCTION 1"
   ]
  },
  {
   "cell_type": "markdown",
   "metadata": {},
   "source": [
    "**Formula: $floor(\\frac{val}{n+1}*k)$, where $val=arr[i]$**"
   ]
  },
  {
   "cell_type": "markdown",
   "metadata": {
    "pycharm": {
     "is_executing": false,
     "name": "#%% md\n"
    }
   },
   "source": [
    "**The division is done with n+1 because**\n",
    "\n",
    "+ When we use n instead of n+1 **then** floor($\\frac{n}{n}*k$) = k. This can happen only 1 time with max value so the last bucket in buckets array would be unbalanced. This is also an issue because when we create an array with length k, the last element we can index is k-1."
   ]
  },
  {
   "cell_type": "code",
   "execution_count": 1,
   "metadata": {
    "pycharm": {
     "is_executing": false,
     "name": "#%%\n"
    }
   },
   "outputs": [],
   "source": [
    "import plotly.plotly as py\n",
    "import plotly.graph_objs as go\n",
    "from math import floor\n",
    "# buckets based on values\n",
    "# buckets assumes an array \n",
    "\n",
    "def bucketer_1(arr,k):   \n",
    "    buckets = [[] for i in range(k)]\n",
    "    max_val = max(arr)\n",
    "    for val in arr:\n",
    "        idx=floor(val/(max_val+1)*k)\n",
    "        buckets[idx].append(val)\n",
    "    return buckets\n",
    "\n",
    "\n"
   ]
  },
  {
   "cell_type": "markdown",
   "metadata": {},
   "source": [
    "## BUCKETING FUNCTION 2"
   ]
  },
  {
   "cell_type": "markdown",
   "metadata": {},
   "source": [
    "**Formula: $floor(\\frac{val}{n}*k-1)$, where $val=arr[i]$**"
   ]
  },
  {
   "cell_type": "code",
   "execution_count": 3,
   "metadata": {
    "pycharm": {
     "is_executing": false,
     "name": "#%%\n"
    }
   },
   "outputs": [],
   "source": [
    "def bucketer_2(arr,k):   \n",
    "    buckets = [[] for i in range(k)]\n",
    "    max_val = max(arr)\n",
    "    for val in arr:\n",
    "        idx=floor(val/(max_val)*(k-1))\n",
    "        buckets[idx].append(val)\n",
    "    return buckets\n",
    "\n",
    "\n"
   ]
  },
  {
   "cell_type": "markdown",
   "metadata": {},
   "source": [
    "## SIMPLE TEST FOR BOTH OF THE FUNCTIONS"
   ]
  },
  {
   "cell_type": "code",
   "execution_count": 4,
   "metadata": {
    "pycharm": {
     "name": "#%%\n"
    }
   },
   "outputs": [],
   "source": [
    "# UTILYT FUNCTION RETURNS AN ARRAY WITH VALUES [MIN_V..MAX_V]\n",
    "def test_function(min_v,max_v, k, method):\n",
    "    arr = [i for i in range(min_v,max_v+1)]\n",
    "    return method(arr, k) "
   ]
  },
  {
   "cell_type": "code",
   "execution_count": 5,
   "metadata": {
    "pycharm": {
     "is_executing": false,
     "name": "#%%\n"
    }
   },
   "outputs": [
    {
     "name": "stdout",
     "output_type": "stream",
     "text": [
      "[[1, 2, 3, 4], [5, 6, 7, 8], [9, 10, 11, 12]]\n",
      "[[1, 2, 3, 4, 5], [6, 7, 8, 9, 10, 11], [12]]\n"
     ]
    }
   ],
   "source": [
    "all_functions=[bucketer_1,bucketer_2]\n",
    "\n",
    "for func in all_functions:\n",
    "    print(test_function(min_v=1,max_v=12,k=3,method=func))\n",
    "    "
   ]
  },
  {
   "cell_type": "markdown",
   "metadata": {},
   "source": [
    "**This function generates an array and applies the specified method (method) to \n",
    "bucket the input array into k (method_k) buckets**"
   ]
  },
  {
   "cell_type": "markdown",
   "metadata": {},
   "source": [
    "# BUCKETING FUNCTION COMPARISON WITH PLOTLY"
   ]
  },
  {
   "cell_type": "markdown",
   "metadata": {},
   "source": [
    "Here we are going to visualize bucketer_1 and bucketer_2 functions bucketing the data from 1..n into k buckets. One subplot is going to hold barchart for 2 functions with different colors. We are going to show multiple plots\n",
    "\n"
   ]
  },
  {
   "cell_type": "code",
   "execution_count": 6,
   "metadata": {},
   "outputs": [],
   "source": [
    "# GENERATE BUCKET DIVISIONS WITH INPUT ARRAY SIZE [1..start,..,1..end]. 2 BUCKETS ARE GOING TO BE CREATED FOR EACH ARRAY\n",
    "def generate_buckets(start,end):\n",
    "    for i in range(start,end):\n",
    "        buckets1=test_function(1,i,k,bucketer_1)\n",
    "        buckets2=test_function(1,i,k,bucketer_2)\n",
    "        all_buckets.append([buckets1,buckets2])\n",
    "    return all_buckets"
   ]
  },
  {
   "cell_type": "markdown",
   "metadata": {},
   "source": [
    "**Tutorials used to create these plots**\n",
    "\n",
    "+ [1 LEGEND MULTIPLE PLOT TRACES](https://plot.ly/python/legend/#grouped-legend)\n",
    "+ [PYTHON SUBPLOTS](https://plot.ly/python/subplots/)"
   ]
  },
  {
   "cell_type": "code",
   "execution_count": 7,
   "metadata": {},
   "outputs": [
    {
     "data": {
      "text/html": [
       "        <script type=\"text/javascript\">\n",
       "        window.PlotlyConfig = {MathJaxConfig: 'local'};\n",
       "        if (window.MathJax) {MathJax.Hub.Config({SVG: {font: \"STIX-Web\"}});}\n",
       "        if (typeof require !== 'undefined') {\n",
       "        require.undef(\"plotly\");\n",
       "        requirejs.config({\n",
       "            paths: {\n",
       "                'plotly': ['https://cdn.plot.ly/plotly-latest.min']\n",
       "            }\n",
       "        });\n",
       "        require(['plotly'], function(Plotly) {\n",
       "            window._Plotly = Plotly;\n",
       "        });\n",
       "        }\n",
       "        </script>\n",
       "        "
      ]
     },
     "metadata": {},
     "output_type": "display_data"
    }
   ],
   "source": [
    "# IMPORT LIBRARIES\n",
    "from plotly.offline import download_plotlyjs, init_notebook_mode, plot, iplot\n",
    "import plotly.graph_objs \n",
    "inline_jupyter=True\n",
    "init_notebook_mode(connected=inline_jupyter)\n",
    "from plotly import tools"
   ]
  },
  {
   "cell_type": "code",
   "execution_count": 14,
   "metadata": {},
   "outputs": [
    {
     "name": "stdout",
     "output_type": "stream",
     "text": [
      "This is the format of your plot grid:\n",
      "[ (1,1) x1,y1 ]  [ (1,2) x2,y2 ]  [ (1,3) x3,y3 ]\n",
      "[ (2,1) x4,y4 ]  [ (2,2) x5,y5 ]  [ (2,3) x6,y6 ]\n",
      "[ (3,1) x7,y7 ]  [ (3,2) x8,y8 ]  [ (3,3) x9,y9 ]\n",
      "\n"
     ]
    },
    {
     "data": {
      "application/vnd.plotly.v1+json": {
       "config": {
        "linkText": "Export to plot.ly",
        "plotlyServerURL": "https://plot.ly",
        "showLink": false
       },
       "data": [
        {
         "legendgroup": "group",
         "marker": {
          "color": "rgb(158,202,225)",
          "line": {
           "color": "rgb(8,48,107)",
           "width": 1.5
          }
         },
         "name": "idx=floor(val/(n+1)*k)",
         "showlegend": true,
         "type": "bar",
         "uid": "851d9bf7-af4a-4b5d-a72f-56ef8d98f5e1",
         "x": [
          0,
          1,
          2
         ],
         "xaxis": "x",
         "y": [
          3,
          4,
          3
         ],
         "yaxis": "y"
        },
        {
         "legendgroup": "group2",
         "marker": {
          "color": "rgb(255,0,225)",
          "line": {
           "color": "rgb(8,48,107)",
           "width": 1.5
          }
         },
         "name": "idx=floor(val/(n)*(k-1))",
         "showlegend": true,
         "type": "bar",
         "uid": "a47985a9-e20f-4192-b2de-748d78e7956d",
         "x": [
          0,
          1,
          2
         ],
         "xaxis": "x",
         "y": [
          4,
          5,
          1
         ],
         "yaxis": "y"
        },
        {
         "legendgroup": "group",
         "marker": {
          "color": "rgb(158,202,225)",
          "line": {
           "color": "rgb(8,48,107)",
           "width": 1.5
          }
         },
         "name": "idx=floor(val/(n+1)*k)",
         "showlegend": false,
         "type": "bar",
         "uid": "3407bfaa-2582-424a-ad1e-6e4f18408971",
         "x": [
          0,
          1,
          2
         ],
         "xaxis": "x2",
         "y": [
          3,
          4,
          4
         ],
         "yaxis": "y2"
        },
        {
         "legendgroup": "group2",
         "marker": {
          "color": "rgb(255,0,225)",
          "line": {
           "color": "rgb(8,48,107)",
           "width": 1.5
          }
         },
         "name": "idx=floor(val/(n)*(k-1))",
         "showlegend": false,
         "type": "bar",
         "uid": "e043d3e6-cc0e-4afb-a5f7-3feb1baf1e85",
         "x": [
          0,
          1,
          2
         ],
         "xaxis": "x2",
         "y": [
          5,
          5,
          1
         ],
         "yaxis": "y2"
        },
        {
         "legendgroup": "group",
         "marker": {
          "color": "rgb(158,202,225)",
          "line": {
           "color": "rgb(8,48,107)",
           "width": 1.5
          }
         },
         "name": "idx=floor(val/(n+1)*k)",
         "showlegend": false,
         "type": "bar",
         "uid": "f1bd939a-e447-464e-97b9-6ccd2e288841",
         "x": [
          0,
          1,
          2
         ],
         "xaxis": "x3",
         "y": [
          4,
          4,
          4
         ],
         "yaxis": "y3"
        },
        {
         "legendgroup": "group2",
         "marker": {
          "color": "rgb(255,0,225)",
          "line": {
           "color": "rgb(8,48,107)",
           "width": 1.5
          }
         },
         "name": "idx=floor(val/(n)*(k-1))",
         "showlegend": false,
         "type": "bar",
         "uid": "a5418c4e-b9d9-4662-a46a-272f4855a779",
         "x": [
          0,
          1,
          2
         ],
         "xaxis": "x3",
         "y": [
          5,
          6,
          1
         ],
         "yaxis": "y3"
        },
        {
         "legendgroup": "group",
         "marker": {
          "color": "rgb(158,202,225)",
          "line": {
           "color": "rgb(8,48,107)",
           "width": 1.5
          }
         },
         "name": "idx=floor(val/(n+1)*k)",
         "showlegend": false,
         "type": "bar",
         "uid": "1424364d-bd63-4270-93ea-b8ffe07d830b",
         "x": [
          0,
          1,
          2
         ],
         "xaxis": "x4",
         "y": [
          4,
          5,
          4
         ],
         "yaxis": "y4"
        },
        {
         "legendgroup": "group2",
         "marker": {
          "color": "rgb(255,0,225)",
          "line": {
           "color": "rgb(8,48,107)",
           "width": 1.5
          }
         },
         "name": "idx=floor(val/(n)*(k-1))",
         "showlegend": false,
         "type": "bar",
         "uid": "dc5e9c93-77cb-49cf-8dea-0d56a8ee52d3",
         "x": [
          0,
          1,
          2
         ],
         "xaxis": "x4",
         "y": [
          6,
          6,
          1
         ],
         "yaxis": "y4"
        },
        {
         "legendgroup": "group",
         "marker": {
          "color": "rgb(158,202,225)",
          "line": {
           "color": "rgb(8,48,107)",
           "width": 1.5
          }
         },
         "name": "idx=floor(val/(n+1)*k)",
         "showlegend": false,
         "type": "bar",
         "uid": "81485785-80bf-49b7-aa63-77920e2c99be",
         "x": [
          0,
          1,
          2
         ],
         "xaxis": "x5",
         "y": [
          4,
          5,
          5
         ],
         "yaxis": "y5"
        },
        {
         "legendgroup": "group2",
         "marker": {
          "color": "rgb(255,0,225)",
          "line": {
           "color": "rgb(8,48,107)",
           "width": 1.5
          }
         },
         "name": "idx=floor(val/(n)*(k-1))",
         "showlegend": false,
         "type": "bar",
         "uid": "e903e0cb-8348-4a95-9a27-49b631fd5625",
         "x": [
          0,
          1,
          2
         ],
         "xaxis": "x5",
         "y": [
          6,
          7,
          1
         ],
         "yaxis": "y5"
        },
        {
         "legendgroup": "group",
         "marker": {
          "color": "rgb(158,202,225)",
          "line": {
           "color": "rgb(8,48,107)",
           "width": 1.5
          }
         },
         "name": "idx=floor(val/(n+1)*k)",
         "showlegend": false,
         "type": "bar",
         "uid": "9cdc3d1c-0f32-4813-8f4d-ad6b9e1a04a4",
         "x": [
          0,
          1,
          2
         ],
         "xaxis": "x6",
         "y": [
          5,
          5,
          5
         ],
         "yaxis": "y6"
        },
        {
         "legendgroup": "group2",
         "marker": {
          "color": "rgb(255,0,225)",
          "line": {
           "color": "rgb(8,48,107)",
           "width": 1.5
          }
         },
         "name": "idx=floor(val/(n)*(k-1))",
         "showlegend": false,
         "type": "bar",
         "uid": "de3c942b-61fc-44bf-968b-37a47d218d6f",
         "x": [
          0,
          1,
          2
         ],
         "xaxis": "x6",
         "y": [
          7,
          7,
          1
         ],
         "yaxis": "y6"
        },
        {
         "legendgroup": "group",
         "marker": {
          "color": "rgb(158,202,225)",
          "line": {
           "color": "rgb(8,48,107)",
           "width": 1.5
          }
         },
         "name": "idx=floor(val/(n+1)*k)",
         "showlegend": false,
         "type": "bar",
         "uid": "8fa6b542-af4b-45cc-8286-dd6d2e6eb585",
         "x": [
          0,
          1,
          2
         ],
         "xaxis": "x7",
         "y": [
          5,
          6,
          5
         ],
         "yaxis": "y7"
        },
        {
         "legendgroup": "group2",
         "marker": {
          "color": "rgb(255,0,225)",
          "line": {
           "color": "rgb(8,48,107)",
           "width": 1.5
          }
         },
         "name": "idx=floor(val/(n)*(k-1))",
         "showlegend": false,
         "type": "bar",
         "uid": "deb96a1f-04b3-409d-8150-c0529e0482bc",
         "x": [
          0,
          1,
          2
         ],
         "xaxis": "x7",
         "y": [
          7,
          8,
          1
         ],
         "yaxis": "y7"
        },
        {
         "legendgroup": "group",
         "marker": {
          "color": "rgb(158,202,225)",
          "line": {
           "color": "rgb(8,48,107)",
           "width": 1.5
          }
         },
         "name": "idx=floor(val/(n+1)*k)",
         "showlegend": false,
         "type": "bar",
         "uid": "059e0dcf-41f2-4174-bf99-3e393f29ad92",
         "x": [
          0,
          1,
          2
         ],
         "xaxis": "x8",
         "y": [
          5,
          6,
          6
         ],
         "yaxis": "y8"
        },
        {
         "legendgroup": "group2",
         "marker": {
          "color": "rgb(255,0,225)",
          "line": {
           "color": "rgb(8,48,107)",
           "width": 1.5
          }
         },
         "name": "idx=floor(val/(n)*(k-1))",
         "showlegend": false,
         "type": "bar",
         "uid": "82950b20-3b0e-4da9-9f1a-1f3cdf6f2901",
         "x": [
          0,
          1,
          2
         ],
         "xaxis": "x8",
         "y": [
          8,
          8,
          1
         ],
         "yaxis": "y8"
        },
        {
         "legendgroup": "group",
         "marker": {
          "color": "rgb(158,202,225)",
          "line": {
           "color": "rgb(8,48,107)",
           "width": 1.5
          }
         },
         "name": "idx=floor(val/(n+1)*k)",
         "showlegend": false,
         "type": "bar",
         "uid": "b876c0c6-cdf5-4920-bd79-d3f194bfe8c1",
         "x": [
          0,
          1,
          2
         ],
         "xaxis": "x9",
         "y": [
          6,
          6,
          6
         ],
         "yaxis": "y9"
        },
        {
         "legendgroup": "group2",
         "marker": {
          "color": "rgb(255,0,225)",
          "line": {
           "color": "rgb(8,48,107)",
           "width": 1.5
          }
         },
         "name": "idx=floor(val/(n)*(k-1))",
         "showlegend": false,
         "type": "bar",
         "uid": "ac2328a8-0ce8-4871-b446-400b069c6653",
         "x": [
          0,
          1,
          2
         ],
         "xaxis": "x9",
         "y": [
          8,
          9,
          1
         ],
         "yaxis": "y9"
        }
       ],
       "layout": {
        "annotations": [
         {
          "font": {
           "size": 16
          },
          "showarrow": false,
          "text": "k=3,n=10",
          "x": 0.14444444444444446,
          "xanchor": "center",
          "xref": "paper",
          "y": 1,
          "yanchor": "bottom",
          "yref": "paper"
         },
         {
          "font": {
           "size": 16
          },
          "showarrow": false,
          "text": "k=3,n=11",
          "x": 0.5,
          "xanchor": "center",
          "xref": "paper",
          "y": 1,
          "yanchor": "bottom",
          "yref": "paper"
         },
         {
          "font": {
           "size": 16
          },
          "showarrow": false,
          "text": "k=3,n=12",
          "x": 0.8555555555555556,
          "xanchor": "center",
          "xref": "paper",
          "y": 1,
          "yanchor": "bottom",
          "yref": "paper"
         },
         {
          "font": {
           "size": 16
          },
          "showarrow": false,
          "text": "k=3,n=13",
          "x": 0.14444444444444446,
          "xanchor": "center",
          "xref": "paper",
          "y": 0.6111111111111112,
          "yanchor": "bottom",
          "yref": "paper"
         },
         {
          "font": {
           "size": 16
          },
          "showarrow": false,
          "text": "k=3,n=14",
          "x": 0.5,
          "xanchor": "center",
          "xref": "paper",
          "y": 0.6111111111111112,
          "yanchor": "bottom",
          "yref": "paper"
         },
         {
          "font": {
           "size": 16
          },
          "showarrow": false,
          "text": "k=3,n=15",
          "x": 0.8555555555555556,
          "xanchor": "center",
          "xref": "paper",
          "y": 0.6111111111111112,
          "yanchor": "bottom",
          "yref": "paper"
         },
         {
          "font": {
           "size": 16
          },
          "showarrow": false,
          "text": "k=3,n=16",
          "x": 0.14444444444444446,
          "xanchor": "center",
          "xref": "paper",
          "y": 0.22222222222222224,
          "yanchor": "bottom",
          "yref": "paper"
         },
         {
          "font": {
           "size": 16
          },
          "showarrow": false,
          "text": "k=3,n=17",
          "x": 0.5,
          "xanchor": "center",
          "xref": "paper",
          "y": 0.22222222222222224,
          "yanchor": "bottom",
          "yref": "paper"
         },
         {
          "font": {
           "size": 16
          },
          "showarrow": false,
          "text": "k=3,n=18",
          "x": 0.8555555555555556,
          "xanchor": "center",
          "xref": "paper",
          "y": 0.22222222222222224,
          "yanchor": "bottom",
          "yref": "paper"
         }
        ],
        "title": {
         "text": "Bucketing function comparison"
        },
        "xaxis": {
         "anchor": "y",
         "domain": [
          0,
          0.2888888888888889
         ],
         "dtick": 1
        },
        "xaxis2": {
         "anchor": "y2",
         "domain": [
          0.35555555555555557,
          0.6444444444444445
         ],
         "dtick": 1
        },
        "xaxis3": {
         "anchor": "y3",
         "domain": [
          0.7111111111111111,
          1
         ],
         "dtick": 1
        },
        "xaxis4": {
         "anchor": "y4",
         "domain": [
          0,
          0.2888888888888889
         ],
         "dtick": 1
        },
        "xaxis5": {
         "anchor": "y5",
         "domain": [
          0.35555555555555557,
          0.6444444444444445
         ],
         "dtick": 1
        },
        "xaxis6": {
         "anchor": "y6",
         "domain": [
          0.7111111111111111,
          1
         ],
         "dtick": 1
        },
        "xaxis7": {
         "anchor": "y7",
         "domain": [
          0,
          0.2888888888888889
         ],
         "dtick": 1
        },
        "xaxis8": {
         "anchor": "y8",
         "domain": [
          0.35555555555555557,
          0.6444444444444445
         ],
         "dtick": 1
        },
        "xaxis9": {
         "anchor": "y9",
         "domain": [
          0.7111111111111111,
          1
         ],
         "dtick": 1
        },
        "yaxis": {
         "anchor": "x",
         "domain": [
          0.7777777777777778,
          1
         ],
         "dtick": 1
        },
        "yaxis2": {
         "anchor": "x2",
         "domain": [
          0.7777777777777778,
          1
         ],
         "dtick": 1
        },
        "yaxis3": {
         "anchor": "x3",
         "domain": [
          0.7777777777777778,
          1
         ],
         "dtick": 1
        },
        "yaxis4": {
         "anchor": "x4",
         "domain": [
          0.3888888888888889,
          0.6111111111111112
         ],
         "dtick": 1
        },
        "yaxis5": {
         "anchor": "x5",
         "domain": [
          0.3888888888888889,
          0.6111111111111112
         ],
         "dtick": 1
        },
        "yaxis6": {
         "anchor": "x6",
         "domain": [
          0.3888888888888889,
          0.6111111111111112
         ],
         "dtick": 1
        },
        "yaxis7": {
         "anchor": "x7",
         "domain": [
          0,
          0.22222222222222224
         ],
         "dtick": 1
        },
        "yaxis8": {
         "anchor": "x8",
         "domain": [
          0,
          0.22222222222222224
         ],
         "dtick": 1
        },
        "yaxis9": {
         "anchor": "x9",
         "domain": [
          0,
          0.22222222222222224
         ],
         "dtick": 1
        }
       }
      },
      "text/html": [
       "<div>\n",
       "        \n",
       "        \n",
       "            <div id=\"15e6033a-9e01-47aa-a606-6c2d27cb5d8f\" class=\"plotly-graph-div\" style=\"height:525px; width:100%;\"></div>\n",
       "            <script type=\"text/javascript\">\n",
       "                require([\"plotly\"], function(Plotly) {\n",
       "                    window.PLOTLYENV=window.PLOTLYENV || {};\n",
       "                    window.PLOTLYENV.BASE_URL='https://plot.ly';\n",
       "                    \n",
       "                if (document.getElementById(\"15e6033a-9e01-47aa-a606-6c2d27cb5d8f\")) {\n",
       "                    Plotly.newPlot(\n",
       "                        '15e6033a-9e01-47aa-a606-6c2d27cb5d8f',\n",
       "                        [{\"legendgroup\": \"group\", \"marker\": {\"color\": \"rgb(158,202,225)\", \"line\": {\"color\": \"rgb(8,48,107)\", \"width\": 1.5}}, \"name\": \"idx=floor(val/(n+1)*k)\", \"showlegend\": true, \"type\": \"bar\", \"uid\": \"851d9bf7-af4a-4b5d-a72f-56ef8d98f5e1\", \"x\": [0, 1, 2], \"xaxis\": \"x\", \"y\": [3, 4, 3], \"yaxis\": \"y\"}, {\"legendgroup\": \"group2\", \"marker\": {\"color\": \"rgb(255,0,225)\", \"line\": {\"color\": \"rgb(8,48,107)\", \"width\": 1.5}}, \"name\": \"idx=floor(val/(n)*(k-1))\", \"showlegend\": true, \"type\": \"bar\", \"uid\": \"a47985a9-e20f-4192-b2de-748d78e7956d\", \"x\": [0, 1, 2], \"xaxis\": \"x\", \"y\": [4, 5, 1], \"yaxis\": \"y\"}, {\"legendgroup\": \"group\", \"marker\": {\"color\": \"rgb(158,202,225)\", \"line\": {\"color\": \"rgb(8,48,107)\", \"width\": 1.5}}, \"name\": \"idx=floor(val/(n+1)*k)\", \"showlegend\": false, \"type\": \"bar\", \"uid\": \"3407bfaa-2582-424a-ad1e-6e4f18408971\", \"x\": [0, 1, 2], \"xaxis\": \"x2\", \"y\": [3, 4, 4], \"yaxis\": \"y2\"}, {\"legendgroup\": \"group2\", \"marker\": {\"color\": \"rgb(255,0,225)\", \"line\": {\"color\": \"rgb(8,48,107)\", \"width\": 1.5}}, \"name\": \"idx=floor(val/(n)*(k-1))\", \"showlegend\": false, \"type\": \"bar\", \"uid\": \"e043d3e6-cc0e-4afb-a5f7-3feb1baf1e85\", \"x\": [0, 1, 2], \"xaxis\": \"x2\", \"y\": [5, 5, 1], \"yaxis\": \"y2\"}, {\"legendgroup\": \"group\", \"marker\": {\"color\": \"rgb(158,202,225)\", \"line\": {\"color\": \"rgb(8,48,107)\", \"width\": 1.5}}, \"name\": \"idx=floor(val/(n+1)*k)\", \"showlegend\": false, \"type\": \"bar\", \"uid\": \"f1bd939a-e447-464e-97b9-6ccd2e288841\", \"x\": [0, 1, 2], \"xaxis\": \"x3\", \"y\": [4, 4, 4], \"yaxis\": \"y3\"}, {\"legendgroup\": \"group2\", \"marker\": {\"color\": \"rgb(255,0,225)\", \"line\": {\"color\": \"rgb(8,48,107)\", \"width\": 1.5}}, \"name\": \"idx=floor(val/(n)*(k-1))\", \"showlegend\": false, \"type\": \"bar\", \"uid\": \"a5418c4e-b9d9-4662-a46a-272f4855a779\", \"x\": [0, 1, 2], \"xaxis\": \"x3\", \"y\": [5, 6, 1], \"yaxis\": \"y3\"}, {\"legendgroup\": \"group\", \"marker\": {\"color\": \"rgb(158,202,225)\", \"line\": {\"color\": \"rgb(8,48,107)\", \"width\": 1.5}}, \"name\": \"idx=floor(val/(n+1)*k)\", \"showlegend\": false, \"type\": \"bar\", \"uid\": \"1424364d-bd63-4270-93ea-b8ffe07d830b\", \"x\": [0, 1, 2], \"xaxis\": \"x4\", \"y\": [4, 5, 4], \"yaxis\": \"y4\"}, {\"legendgroup\": \"group2\", \"marker\": {\"color\": \"rgb(255,0,225)\", \"line\": {\"color\": \"rgb(8,48,107)\", \"width\": 1.5}}, \"name\": \"idx=floor(val/(n)*(k-1))\", \"showlegend\": false, \"type\": \"bar\", \"uid\": \"dc5e9c93-77cb-49cf-8dea-0d56a8ee52d3\", \"x\": [0, 1, 2], \"xaxis\": \"x4\", \"y\": [6, 6, 1], \"yaxis\": \"y4\"}, {\"legendgroup\": \"group\", \"marker\": {\"color\": \"rgb(158,202,225)\", \"line\": {\"color\": \"rgb(8,48,107)\", \"width\": 1.5}}, \"name\": \"idx=floor(val/(n+1)*k)\", \"showlegend\": false, \"type\": \"bar\", \"uid\": \"81485785-80bf-49b7-aa63-77920e2c99be\", \"x\": [0, 1, 2], \"xaxis\": \"x5\", \"y\": [4, 5, 5], \"yaxis\": \"y5\"}, {\"legendgroup\": \"group2\", \"marker\": {\"color\": \"rgb(255,0,225)\", \"line\": {\"color\": \"rgb(8,48,107)\", \"width\": 1.5}}, \"name\": \"idx=floor(val/(n)*(k-1))\", \"showlegend\": false, \"type\": \"bar\", \"uid\": \"e903e0cb-8348-4a95-9a27-49b631fd5625\", \"x\": [0, 1, 2], \"xaxis\": \"x5\", \"y\": [6, 7, 1], \"yaxis\": \"y5\"}, {\"legendgroup\": \"group\", \"marker\": {\"color\": \"rgb(158,202,225)\", \"line\": {\"color\": \"rgb(8,48,107)\", \"width\": 1.5}}, \"name\": \"idx=floor(val/(n+1)*k)\", \"showlegend\": false, \"type\": \"bar\", \"uid\": \"9cdc3d1c-0f32-4813-8f4d-ad6b9e1a04a4\", \"x\": [0, 1, 2], \"xaxis\": \"x6\", \"y\": [5, 5, 5], \"yaxis\": \"y6\"}, {\"legendgroup\": \"group2\", \"marker\": {\"color\": \"rgb(255,0,225)\", \"line\": {\"color\": \"rgb(8,48,107)\", \"width\": 1.5}}, \"name\": \"idx=floor(val/(n)*(k-1))\", \"showlegend\": false, \"type\": \"bar\", \"uid\": \"de3c942b-61fc-44bf-968b-37a47d218d6f\", \"x\": [0, 1, 2], \"xaxis\": \"x6\", \"y\": [7, 7, 1], \"yaxis\": \"y6\"}, {\"legendgroup\": \"group\", \"marker\": {\"color\": \"rgb(158,202,225)\", \"line\": {\"color\": \"rgb(8,48,107)\", \"width\": 1.5}}, \"name\": \"idx=floor(val/(n+1)*k)\", \"showlegend\": false, \"type\": \"bar\", \"uid\": \"8fa6b542-af4b-45cc-8286-dd6d2e6eb585\", \"x\": [0, 1, 2], \"xaxis\": \"x7\", \"y\": [5, 6, 5], \"yaxis\": \"y7\"}, {\"legendgroup\": \"group2\", \"marker\": {\"color\": \"rgb(255,0,225)\", \"line\": {\"color\": \"rgb(8,48,107)\", \"width\": 1.5}}, \"name\": \"idx=floor(val/(n)*(k-1))\", \"showlegend\": false, \"type\": \"bar\", \"uid\": \"deb96a1f-04b3-409d-8150-c0529e0482bc\", \"x\": [0, 1, 2], \"xaxis\": \"x7\", \"y\": [7, 8, 1], \"yaxis\": \"y7\"}, {\"legendgroup\": \"group\", \"marker\": {\"color\": \"rgb(158,202,225)\", \"line\": {\"color\": \"rgb(8,48,107)\", \"width\": 1.5}}, \"name\": \"idx=floor(val/(n+1)*k)\", \"showlegend\": false, \"type\": \"bar\", \"uid\": \"059e0dcf-41f2-4174-bf99-3e393f29ad92\", \"x\": [0, 1, 2], \"xaxis\": \"x8\", \"y\": [5, 6, 6], \"yaxis\": \"y8\"}, {\"legendgroup\": \"group2\", \"marker\": {\"color\": \"rgb(255,0,225)\", \"line\": {\"color\": \"rgb(8,48,107)\", \"width\": 1.5}}, \"name\": \"idx=floor(val/(n)*(k-1))\", \"showlegend\": false, \"type\": \"bar\", \"uid\": \"82950b20-3b0e-4da9-9f1a-1f3cdf6f2901\", \"x\": [0, 1, 2], \"xaxis\": \"x8\", \"y\": [8, 8, 1], \"yaxis\": \"y8\"}, {\"legendgroup\": \"group\", \"marker\": {\"color\": \"rgb(158,202,225)\", \"line\": {\"color\": \"rgb(8,48,107)\", \"width\": 1.5}}, \"name\": \"idx=floor(val/(n+1)*k)\", \"showlegend\": false, \"type\": \"bar\", \"uid\": \"b876c0c6-cdf5-4920-bd79-d3f194bfe8c1\", \"x\": [0, 1, 2], \"xaxis\": \"x9\", \"y\": [6, 6, 6], \"yaxis\": \"y9\"}, {\"legendgroup\": \"group2\", \"marker\": {\"color\": \"rgb(255,0,225)\", \"line\": {\"color\": \"rgb(8,48,107)\", \"width\": 1.5}}, \"name\": \"idx=floor(val/(n)*(k-1))\", \"showlegend\": false, \"type\": \"bar\", \"uid\": \"ac2328a8-0ce8-4871-b446-400b069c6653\", \"x\": [0, 1, 2], \"xaxis\": \"x9\", \"y\": [8, 9, 1], \"yaxis\": \"y9\"}],\n",
       "                        {\"annotations\": [{\"font\": {\"size\": 16}, \"showarrow\": false, \"text\": \"k=3,n=10\", \"x\": 0.14444444444444446, \"xanchor\": \"center\", \"xref\": \"paper\", \"y\": 1.0, \"yanchor\": \"bottom\", \"yref\": \"paper\"}, {\"font\": {\"size\": 16}, \"showarrow\": false, \"text\": \"k=3,n=11\", \"x\": 0.5, \"xanchor\": \"center\", \"xref\": \"paper\", \"y\": 1.0, \"yanchor\": \"bottom\", \"yref\": \"paper\"}, {\"font\": {\"size\": 16}, \"showarrow\": false, \"text\": \"k=3,n=12\", \"x\": 0.8555555555555556, \"xanchor\": \"center\", \"xref\": \"paper\", \"y\": 1.0, \"yanchor\": \"bottom\", \"yref\": \"paper\"}, {\"font\": {\"size\": 16}, \"showarrow\": false, \"text\": \"k=3,n=13\", \"x\": 0.14444444444444446, \"xanchor\": \"center\", \"xref\": \"paper\", \"y\": 0.6111111111111112, \"yanchor\": \"bottom\", \"yref\": \"paper\"}, {\"font\": {\"size\": 16}, \"showarrow\": false, \"text\": \"k=3,n=14\", \"x\": 0.5, \"xanchor\": \"center\", \"xref\": \"paper\", \"y\": 0.6111111111111112, \"yanchor\": \"bottom\", \"yref\": \"paper\"}, {\"font\": {\"size\": 16}, \"showarrow\": false, \"text\": \"k=3,n=15\", \"x\": 0.8555555555555556, \"xanchor\": \"center\", \"xref\": \"paper\", \"y\": 0.6111111111111112, \"yanchor\": \"bottom\", \"yref\": \"paper\"}, {\"font\": {\"size\": 16}, \"showarrow\": false, \"text\": \"k=3,n=16\", \"x\": 0.14444444444444446, \"xanchor\": \"center\", \"xref\": \"paper\", \"y\": 0.22222222222222224, \"yanchor\": \"bottom\", \"yref\": \"paper\"}, {\"font\": {\"size\": 16}, \"showarrow\": false, \"text\": \"k=3,n=17\", \"x\": 0.5, \"xanchor\": \"center\", \"xref\": \"paper\", \"y\": 0.22222222222222224, \"yanchor\": \"bottom\", \"yref\": \"paper\"}, {\"font\": {\"size\": 16}, \"showarrow\": false, \"text\": \"k=3,n=18\", \"x\": 0.8555555555555556, \"xanchor\": \"center\", \"xref\": \"paper\", \"y\": 0.22222222222222224, \"yanchor\": \"bottom\", \"yref\": \"paper\"}], \"title\": {\"text\": \"Bucketing function comparison\"}, \"xaxis\": {\"anchor\": \"y\", \"domain\": [0.0, 0.2888888888888889], \"dtick\": 1}, \"xaxis2\": {\"anchor\": \"y2\", \"domain\": [0.35555555555555557, 0.6444444444444445], \"dtick\": 1}, \"xaxis3\": {\"anchor\": \"y3\", \"domain\": [0.7111111111111111, 1.0], \"dtick\": 1}, \"xaxis4\": {\"anchor\": \"y4\", \"domain\": [0.0, 0.2888888888888889], \"dtick\": 1}, \"xaxis5\": {\"anchor\": \"y5\", \"domain\": [0.35555555555555557, 0.6444444444444445], \"dtick\": 1}, \"xaxis6\": {\"anchor\": \"y6\", \"domain\": [0.7111111111111111, 1.0], \"dtick\": 1}, \"xaxis7\": {\"anchor\": \"y7\", \"domain\": [0.0, 0.2888888888888889], \"dtick\": 1}, \"xaxis8\": {\"anchor\": \"y8\", \"domain\": [0.35555555555555557, 0.6444444444444445], \"dtick\": 1}, \"xaxis9\": {\"anchor\": \"y9\", \"domain\": [0.7111111111111111, 1.0], \"dtick\": 1}, \"yaxis\": {\"anchor\": \"x\", \"domain\": [0.7777777777777778, 1.0], \"dtick\": 1}, \"yaxis2\": {\"anchor\": \"x2\", \"domain\": [0.7777777777777778, 1.0], \"dtick\": 1}, \"yaxis3\": {\"anchor\": \"x3\", \"domain\": [0.7777777777777778, 1.0], \"dtick\": 1}, \"yaxis4\": {\"anchor\": \"x4\", \"domain\": [0.3888888888888889, 0.6111111111111112], \"dtick\": 1}, \"yaxis5\": {\"anchor\": \"x5\", \"domain\": [0.3888888888888889, 0.6111111111111112], \"dtick\": 1}, \"yaxis6\": {\"anchor\": \"x6\", \"domain\": [0.3888888888888889, 0.6111111111111112], \"dtick\": 1}, \"yaxis7\": {\"anchor\": \"x7\", \"domain\": [0.0, 0.22222222222222224], \"dtick\": 1}, \"yaxis8\": {\"anchor\": \"x8\", \"domain\": [0.0, 0.22222222222222224], \"dtick\": 1}, \"yaxis9\": {\"anchor\": \"x9\", \"domain\": [0.0, 0.22222222222222224], \"dtick\": 1}},\n",
       "                        {\"showLink\": false, \"linkText\": \"Export to plot.ly\", \"plotlyServerURL\": \"https://plot.ly\", \"responsive\": true}\n",
       "                    ).then(function(){\n",
       "                            \n",
       "var gd = document.getElementById('15e6033a-9e01-47aa-a606-6c2d27cb5d8f');\n",
       "var x = new MutationObserver(function (mutations, observer) {{\n",
       "        var display = window.getComputedStyle(gd).display;\n",
       "        if (!display || display === 'none') {{\n",
       "            console.log([gd, 'removed!']);\n",
       "            Plotly.purge(gd);\n",
       "            observer.disconnect();\n",
       "        }}\n",
       "}});\n",
       "\n",
       "// Listen for the removal of the full notebook cells\n",
       "var notebookContainer = gd.closest('#notebook-container');\n",
       "if (notebookContainer) {{\n",
       "    x.observe(notebookContainer, {childList: true});\n",
       "}}\n",
       "\n",
       "// Listen for the clearing of the current output cell\n",
       "var outputEl = gd.closest('.output');\n",
       "if (outputEl) {{\n",
       "    x.observe(outputEl, {childList: true});\n",
       "}}\n",
       "\n",
       "                        })\n",
       "                };\n",
       "                });\n",
       "            </script>\n",
       "        </div>"
      ]
     },
     "metadata": {},
     "output_type": "display_data"
    }
   ],
   "source": [
    "from math import ceil,floor\n",
    "# r: rows, c: columns,k: buckets,n: bucket size, start: first n\n",
    "# we are going to have r*c buckets\n",
    "r=3\n",
    "c=3\n",
    "k=3\n",
    "start=10\n",
    "end=start+r*c\n",
    "all_buckets=[]\n",
    "\n",
    "\n",
    "# GENERATE end-start examples BUCKETS WITH BOTH BUCKET FUNCTIONS \n",
    "\n",
    "all_buckets=generate_buckets(start,end)\n",
    "\n",
    "# GENERATE BASIS FOR THE PLOTS, THE PLOT WILL HAVE R*C subplots\n",
    "\n",
    "subplot_titles=[\"k={},n={}\".format(k,start+i)  for i in range(r*c)]\n",
    "fig = tools.make_subplots(rows=r,cols=c,subplot_titles=subplot_titles)\n",
    "fig['layout'].update(title=\"Bucketing function comparison\")\n",
    "\n",
    "    \n",
    "# LOOP THROUGH ALL THE BUCKET PAIRS \n",
    "for i, buckets in enumerate(all_buckets):\n",
    "    \n",
    "    input1,input2=buckets\n",
    "    x_input1=[i for i in range(len(input1))]\n",
    "    y_input1=[len(i) for i in input1]\n",
    "    x_input2=[i for i in range(len(input2))]\n",
    "    y_input2=[len(i) for i in input2]\n",
    "    \n",
    "    # SHOW LEGEND ONLY FOR 1.st PLOT\n",
    "    showlegend= True if i == 0 else False\n",
    "    \n",
    "    \n",
    "    # GENERATE BARS FOR THE PLOT, KEEP BAR1 bars IN ITS OWN GROUP AND BAR2 IN ITS OWN GROUP\n",
    "    bar1=go.Bar(x=x_input1,\\\n",
    "                y=y_input1,\\\n",
    "                legendgroup='group',\\\n",
    "                name='idx=floor(val/(n+1)*k)',\\\n",
    "                showlegend=showlegend,\n",
    "                marker=dict(\\\n",
    "                            color='rgb(158,202,225)',\n",
    "                            line=dict(\\\n",
    "                                      color='rgb(8,48,107)',\\\n",
    "                                      width=1.5,\n",
    "                                     )\n",
    "                           )\n",
    "               )\n",
    "    \n",
    "    bar2=go.Bar(x=x_input2, \n",
    "                y=y_input2,\\\n",
    "                legendgroup='group2',\\\n",
    "                name='idx=floor(val/(n)*(k-1))',\\\n",
    "                showlegend=showlegend,\\\n",
    "                marker=dict(\\\n",
    "                            color='rgb(255,0,225)',\\\n",
    "                            line=dict(\\\n",
    "                                      color='rgb(8,48,107)',\\\n",
    "                                      width=1.5,\n",
    "                                     )       \n",
    "                           )\n",
    "               )\n",
    "    \n",
    "    \n",
    "    \n",
    "    \n",
    "    \n",
    "    # CHOOSE ROW BASED ON INDEX DIVISION BY COL, AND COLUMN BASED ON INDEX MODULUS DIVISION BY COL\n",
    "    current_row=ceil((i+1)/c)\n",
    "    current_col=(i)%c +1 \n",
    "    \n",
    "    # APPEN BARS TO CHARS\n",
    "    fig.append_trace(bar1,current_row,current_col)\n",
    "    fig.append_trace(bar2,current_row,current_col)\n",
    "   \n",
    "#fig['layout'].update(xaxis1=dict(dtick=1),xaxis2=dict(dtick=1))\n",
    "\n",
    "# UPDATE X,Y dticks to 10 on all subplots\n",
    "for i in range(1,r*c+1):\n",
    "    fig['layout']['xaxis{}'.format(i)].update(dtick=1)\n",
    "    fig['layout']['yaxis{}'.format(i)].update(dtick=1)\n",
    "\n",
    "    \n",
    "# SHOW THE GENERATED PLOT\n",
    "\n",
    "iplot(fig)\n",
    "    \n",
    "    "
   ]
  },
  {
   "cell_type": "markdown",
   "metadata": {},
   "source": [
    "# BUCKETING FUNCTION MAX, MIN NUMBER OF ELEMENTS IN EACH BUCKET"
   ]
  },
  {
   "cell_type": "markdown",
   "metadata": {},
   "source": [
    "If we did divide arr [1..n] to k elements with formula $floor(\\frac{val}{n+1}*k)$   \n",
    "\n",
    "\n",
    "+ The value is placed in the **0 bucket** if\n",
    "  + floor($\\frac{val}{n+1}*k) = 0 \\Leftarrow \\frac{val}{n+1}*k<1 \\Leftarrow \\frac{val}{n+1}<\\frac{1}{k} \\Leftarrow \\bf{ val<1*\\frac{(n+1)}{k}}$\n",
    "+ The value is placed in the **1 bucket** if\n",
    "  + floor($\\frac{val}{n+1}*k) = 1 \\Leftarrow \\frac{val}{n+1}*k<2 \\Leftarrow \\frac{val}{n+1}<\\frac{2}{k} \\Leftarrow \\bf{ val<2*\\frac{(n+1)}{k}}$\n",
    "+ The value is placed in the **2 bucket** if\n",
    "  + floor($\\frac{val}{n+1}*k) = 2 \\Leftarrow \\frac{val}{n+1}*k<3 \\Leftarrow \\frac{val}{n+1}<\\frac{3}{k} \\Leftarrow \\bf{ val<3*\\frac{(n+1)}{k}}$\n",
    "\n",
    "+ .......\n",
    "+ The value is placed in the **(k-1)-th bucket** if\n",
    "  + floor($\\frac{val}{n+1}*k) = k-1 \\Leftarrow \\frac{val}{n+1}*k<k \\Leftarrow \\frac{val}{n+1}<\\frac{k}{k} \\Leftarrow \\bf{ val<k*\\frac{(n+1)}{k}=n+1}$\n",
    "\n",
    "\n",
    "\n",
    "\n"
   ]
  },
  {
   "cell_type": "markdown",
   "metadata": {},
   "source": [
    "As we can see the values between 1..n are divided into buckets so that each bucket is \n",
    "with size $\\frac{n+1}{k}$. As this division might not produce an int but can produces a bucket size like 3.3 or 5.6 we have to use a **ROUNDING** floor function to place every value at a specific index in the array (specific bucket in the array of buckets). Each bucket will have at max ceil($\\frac{n+1}{k}$) and min floor($\\frac{n+1}{k}$) elements. Thus max elements in bucket - min elemnts in bucket always equals = 1. You can see that below in the bar chart.\n",
    "\n",
    "\n"
   ]
  },
  {
   "cell_type": "code",
   "execution_count": 13,
   "metadata": {},
   "outputs": [
    {
     "name": "stdout",
     "output_type": "stream",
     "text": [
      "This is the format of your plot grid:\n",
      "[ (1,1) x1,y1 ]  [ (1,2) x2,y2 ]  [ (1,3) x3,y3 ]\n",
      "[ (2,1) x4,y4 ]  [ (2,2) x5,y5 ]  [ (2,3) x6,y6 ]\n",
      "[ (3,1) x7,y7 ]  [ (3,2) x8,y8 ]  [ (3,3) x9,y9 ]\n",
      "\n"
     ]
    },
    {
     "data": {
      "application/vnd.plotly.v1+json": {
       "config": {
        "linkText": "Export to plot.ly",
        "plotlyServerURL": "https://plot.ly",
        "showLink": false
       },
       "data": [
        {
         "legendgroup": "group",
         "marker": {
          "color": "rgb(158,202,225)",
          "line": {
           "color": "rgb(8,48,107)",
           "width": 1.5
          }
         },
         "name": "idx=floor(val/(n+1)*k)",
         "showlegend": true,
         "type": "bar",
         "uid": "b6a6281a-0450-4d13-97f0-49c1f69c6a30",
         "x": [
          0,
          1,
          2
         ],
         "xaxis": "x",
         "y": [
          6,
          7,
          7
         ],
         "yaxis": "y"
        },
        {
         "legendgroup": "group",
         "marker": {
          "color": "rgb(158,202,225)",
          "line": {
           "color": "rgb(8,48,107)",
           "width": 1.5
          }
         },
         "name": "idx=floor(val/(n+1)*k)",
         "showlegend": false,
         "type": "bar",
         "uid": "ccde846e-d35f-41ca-966e-9e026031ec4a",
         "x": [
          0,
          1,
          2
         ],
         "xaxis": "x2",
         "y": [
          7,
          7,
          7
         ],
         "yaxis": "y2"
        },
        {
         "legendgroup": "group",
         "marker": {
          "color": "rgb(158,202,225)",
          "line": {
           "color": "rgb(8,48,107)",
           "width": 1.5
          }
         },
         "name": "idx=floor(val/(n+1)*k)",
         "showlegend": false,
         "type": "bar",
         "uid": "27dffc4a-0676-42c4-ad9d-c98a32cc63e5",
         "x": [
          0,
          1,
          2
         ],
         "xaxis": "x3",
         "y": [
          7,
          8,
          7
         ],
         "yaxis": "y3"
        },
        {
         "legendgroup": "group",
         "marker": {
          "color": "rgb(158,202,225)",
          "line": {
           "color": "rgb(8,48,107)",
           "width": 1.5
          }
         },
         "name": "idx=floor(val/(n+1)*k)",
         "showlegend": false,
         "type": "bar",
         "uid": "28e82ece-db4e-4ce6-95c7-72d289af12f8",
         "x": [
          0,
          1,
          2
         ],
         "xaxis": "x4",
         "y": [
          7,
          8,
          8
         ],
         "yaxis": "y4"
        },
        {
         "legendgroup": "group",
         "marker": {
          "color": "rgb(158,202,225)",
          "line": {
           "color": "rgb(8,48,107)",
           "width": 1.5
          }
         },
         "name": "idx=floor(val/(n+1)*k)",
         "showlegend": false,
         "type": "bar",
         "uid": "5bf3735c-23dc-4684-a17a-b6435a0c7801",
         "x": [
          0,
          1,
          2
         ],
         "xaxis": "x5",
         "y": [
          8,
          8,
          8
         ],
         "yaxis": "y5"
        },
        {
         "legendgroup": "group",
         "marker": {
          "color": "rgb(158,202,225)",
          "line": {
           "color": "rgb(8,48,107)",
           "width": 1.5
          }
         },
         "name": "idx=floor(val/(n+1)*k)",
         "showlegend": false,
         "type": "bar",
         "uid": "fa18aa55-b0a0-4008-ab72-d23c7245fb8b",
         "x": [
          0,
          1,
          2
         ],
         "xaxis": "x6",
         "y": [
          8,
          9,
          8
         ],
         "yaxis": "y6"
        },
        {
         "legendgroup": "group",
         "marker": {
          "color": "rgb(158,202,225)",
          "line": {
           "color": "rgb(8,48,107)",
           "width": 1.5
          }
         },
         "name": "idx=floor(val/(n+1)*k)",
         "showlegend": false,
         "type": "bar",
         "uid": "3798559d-fd09-4421-8cdb-1ebd61274e62",
         "x": [
          0,
          1,
          2
         ],
         "xaxis": "x7",
         "y": [
          8,
          9,
          9
         ],
         "yaxis": "y7"
        },
        {
         "legendgroup": "group",
         "marker": {
          "color": "rgb(158,202,225)",
          "line": {
           "color": "rgb(8,48,107)",
           "width": 1.5
          }
         },
         "name": "idx=floor(val/(n+1)*k)",
         "showlegend": false,
         "type": "bar",
         "uid": "b143a690-b4b2-472d-855f-8bb8b286fd8c",
         "x": [
          0,
          1,
          2
         ],
         "xaxis": "x8",
         "y": [
          9,
          9,
          9
         ],
         "yaxis": "y8"
        },
        {
         "legendgroup": "group",
         "marker": {
          "color": "rgb(158,202,225)",
          "line": {
           "color": "rgb(8,48,107)",
           "width": 1.5
          }
         },
         "name": "idx=floor(val/(n+1)*k)",
         "showlegend": false,
         "type": "bar",
         "uid": "ba2d1c03-e132-4af9-97fc-53b1ab591d9b",
         "x": [
          0,
          1,
          2
         ],
         "xaxis": "x9",
         "y": [
          9,
          10,
          9
         ],
         "yaxis": "y9"
        }
       ],
       "layout": {
        "annotations": [
         {
          "font": {
           "size": 16
          },
          "showarrow": false,
          "text": "k=3,n=20",
          "x": 0.14444444444444446,
          "xanchor": "center",
          "xref": "paper",
          "y": 1,
          "yanchor": "bottom",
          "yref": "paper"
         },
         {
          "font": {
           "size": 16
          },
          "showarrow": false,
          "text": "k=3,n=21",
          "x": 0.5,
          "xanchor": "center",
          "xref": "paper",
          "y": 1,
          "yanchor": "bottom",
          "yref": "paper"
         },
         {
          "font": {
           "size": 16
          },
          "showarrow": false,
          "text": "k=3,n=22",
          "x": 0.8555555555555556,
          "xanchor": "center",
          "xref": "paper",
          "y": 1,
          "yanchor": "bottom",
          "yref": "paper"
         },
         {
          "font": {
           "size": 16
          },
          "showarrow": false,
          "text": "k=3,n=23",
          "x": 0.14444444444444446,
          "xanchor": "center",
          "xref": "paper",
          "y": 0.6111111111111112,
          "yanchor": "bottom",
          "yref": "paper"
         },
         {
          "font": {
           "size": 16
          },
          "showarrow": false,
          "text": "k=3,n=24",
          "x": 0.5,
          "xanchor": "center",
          "xref": "paper",
          "y": 0.6111111111111112,
          "yanchor": "bottom",
          "yref": "paper"
         },
         {
          "font": {
           "size": 16
          },
          "showarrow": false,
          "text": "k=3,n=25",
          "x": 0.8555555555555556,
          "xanchor": "center",
          "xref": "paper",
          "y": 0.6111111111111112,
          "yanchor": "bottom",
          "yref": "paper"
         },
         {
          "font": {
           "size": 16
          },
          "showarrow": false,
          "text": "k=3,n=26",
          "x": 0.14444444444444446,
          "xanchor": "center",
          "xref": "paper",
          "y": 0.22222222222222224,
          "yanchor": "bottom",
          "yref": "paper"
         },
         {
          "font": {
           "size": 16
          },
          "showarrow": false,
          "text": "k=3,n=27",
          "x": 0.5,
          "xanchor": "center",
          "xref": "paper",
          "y": 0.22222222222222224,
          "yanchor": "bottom",
          "yref": "paper"
         },
         {
          "font": {
           "size": 16
          },
          "showarrow": false,
          "text": "k=3,n=28",
          "x": 0.8555555555555556,
          "xanchor": "center",
          "xref": "paper",
          "y": 0.22222222222222224,
          "yanchor": "bottom",
          "yref": "paper"
         }
        ],
        "title": {
         "text": "Bucketing with 3 buckets as n grows from 20 to 29"
        },
        "xaxis": {
         "anchor": "y",
         "domain": [
          0,
          0.2888888888888889
         ],
         "dtick": 1
        },
        "xaxis2": {
         "anchor": "y2",
         "domain": [
          0.35555555555555557,
          0.6444444444444445
         ],
         "dtick": 1
        },
        "xaxis3": {
         "anchor": "y3",
         "domain": [
          0.7111111111111111,
          1
         ],
         "dtick": 1
        },
        "xaxis4": {
         "anchor": "y4",
         "domain": [
          0,
          0.2888888888888889
         ],
         "dtick": 1
        },
        "xaxis5": {
         "anchor": "y5",
         "domain": [
          0.35555555555555557,
          0.6444444444444445
         ],
         "dtick": 1
        },
        "xaxis6": {
         "anchor": "y6",
         "domain": [
          0.7111111111111111,
          1
         ],
         "dtick": 1
        },
        "xaxis7": {
         "anchor": "y7",
         "domain": [
          0,
          0.2888888888888889
         ],
         "dtick": 1
        },
        "xaxis8": {
         "anchor": "y8",
         "domain": [
          0.35555555555555557,
          0.6444444444444445
         ],
         "dtick": 1
        },
        "xaxis9": {
         "anchor": "y9",
         "domain": [
          0.7111111111111111,
          1
         ],
         "dtick": 1
        },
        "yaxis": {
         "anchor": "x",
         "domain": [
          0.7777777777777778,
          1
         ],
         "dtick": 1
        },
        "yaxis2": {
         "anchor": "x2",
         "domain": [
          0.7777777777777778,
          1
         ],
         "dtick": 1
        },
        "yaxis3": {
         "anchor": "x3",
         "domain": [
          0.7777777777777778,
          1
         ],
         "dtick": 1
        },
        "yaxis4": {
         "anchor": "x4",
         "domain": [
          0.3888888888888889,
          0.6111111111111112
         ],
         "dtick": 1
        },
        "yaxis5": {
         "anchor": "x5",
         "domain": [
          0.3888888888888889,
          0.6111111111111112
         ],
         "dtick": 1
        },
        "yaxis6": {
         "anchor": "x6",
         "domain": [
          0.3888888888888889,
          0.6111111111111112
         ],
         "dtick": 1
        },
        "yaxis7": {
         "anchor": "x7",
         "domain": [
          0,
          0.22222222222222224
         ],
         "dtick": 1
        },
        "yaxis8": {
         "anchor": "x8",
         "domain": [
          0,
          0.22222222222222224
         ],
         "dtick": 1
        },
        "yaxis9": {
         "anchor": "x9",
         "domain": [
          0,
          0.22222222222222224
         ],
         "dtick": 1
        }
       }
      },
      "text/html": [
       "<div>\n",
       "        \n",
       "        \n",
       "            <div id=\"148278af-4dbb-43a8-9e1c-0a7ffcaaa633\" class=\"plotly-graph-div\" style=\"height:525px; width:100%;\"></div>\n",
       "            <script type=\"text/javascript\">\n",
       "                require([\"plotly\"], function(Plotly) {\n",
       "                    window.PLOTLYENV=window.PLOTLYENV || {};\n",
       "                    window.PLOTLYENV.BASE_URL='https://plot.ly';\n",
       "                    \n",
       "                if (document.getElementById(\"148278af-4dbb-43a8-9e1c-0a7ffcaaa633\")) {\n",
       "                    Plotly.newPlot(\n",
       "                        '148278af-4dbb-43a8-9e1c-0a7ffcaaa633',\n",
       "                        [{\"legendgroup\": \"group\", \"marker\": {\"color\": \"rgb(158,202,225)\", \"line\": {\"color\": \"rgb(8,48,107)\", \"width\": 1.5}}, \"name\": \"idx=floor(val/(n+1)*k)\", \"showlegend\": true, \"type\": \"bar\", \"uid\": \"b6a6281a-0450-4d13-97f0-49c1f69c6a30\", \"x\": [0, 1, 2], \"xaxis\": \"x\", \"y\": [6, 7, 7], \"yaxis\": \"y\"}, {\"legendgroup\": \"group\", \"marker\": {\"color\": \"rgb(158,202,225)\", \"line\": {\"color\": \"rgb(8,48,107)\", \"width\": 1.5}}, \"name\": \"idx=floor(val/(n+1)*k)\", \"showlegend\": false, \"type\": \"bar\", \"uid\": \"ccde846e-d35f-41ca-966e-9e026031ec4a\", \"x\": [0, 1, 2], \"xaxis\": \"x2\", \"y\": [7, 7, 7], \"yaxis\": \"y2\"}, {\"legendgroup\": \"group\", \"marker\": {\"color\": \"rgb(158,202,225)\", \"line\": {\"color\": \"rgb(8,48,107)\", \"width\": 1.5}}, \"name\": \"idx=floor(val/(n+1)*k)\", \"showlegend\": false, \"type\": \"bar\", \"uid\": \"27dffc4a-0676-42c4-ad9d-c98a32cc63e5\", \"x\": [0, 1, 2], \"xaxis\": \"x3\", \"y\": [7, 8, 7], \"yaxis\": \"y3\"}, {\"legendgroup\": \"group\", \"marker\": {\"color\": \"rgb(158,202,225)\", \"line\": {\"color\": \"rgb(8,48,107)\", \"width\": 1.5}}, \"name\": \"idx=floor(val/(n+1)*k)\", \"showlegend\": false, \"type\": \"bar\", \"uid\": \"28e82ece-db4e-4ce6-95c7-72d289af12f8\", \"x\": [0, 1, 2], \"xaxis\": \"x4\", \"y\": [7, 8, 8], \"yaxis\": \"y4\"}, {\"legendgroup\": \"group\", \"marker\": {\"color\": \"rgb(158,202,225)\", \"line\": {\"color\": \"rgb(8,48,107)\", \"width\": 1.5}}, \"name\": \"idx=floor(val/(n+1)*k)\", \"showlegend\": false, \"type\": \"bar\", \"uid\": \"5bf3735c-23dc-4684-a17a-b6435a0c7801\", \"x\": [0, 1, 2], \"xaxis\": \"x5\", \"y\": [8, 8, 8], \"yaxis\": \"y5\"}, {\"legendgroup\": \"group\", \"marker\": {\"color\": \"rgb(158,202,225)\", \"line\": {\"color\": \"rgb(8,48,107)\", \"width\": 1.5}}, \"name\": \"idx=floor(val/(n+1)*k)\", \"showlegend\": false, \"type\": \"bar\", \"uid\": \"fa18aa55-b0a0-4008-ab72-d23c7245fb8b\", \"x\": [0, 1, 2], \"xaxis\": \"x6\", \"y\": [8, 9, 8], \"yaxis\": \"y6\"}, {\"legendgroup\": \"group\", \"marker\": {\"color\": \"rgb(158,202,225)\", \"line\": {\"color\": \"rgb(8,48,107)\", \"width\": 1.5}}, \"name\": \"idx=floor(val/(n+1)*k)\", \"showlegend\": false, \"type\": \"bar\", \"uid\": \"3798559d-fd09-4421-8cdb-1ebd61274e62\", \"x\": [0, 1, 2], \"xaxis\": \"x7\", \"y\": [8, 9, 9], \"yaxis\": \"y7\"}, {\"legendgroup\": \"group\", \"marker\": {\"color\": \"rgb(158,202,225)\", \"line\": {\"color\": \"rgb(8,48,107)\", \"width\": 1.5}}, \"name\": \"idx=floor(val/(n+1)*k)\", \"showlegend\": false, \"type\": \"bar\", \"uid\": \"b143a690-b4b2-472d-855f-8bb8b286fd8c\", \"x\": [0, 1, 2], \"xaxis\": \"x8\", \"y\": [9, 9, 9], \"yaxis\": \"y8\"}, {\"legendgroup\": \"group\", \"marker\": {\"color\": \"rgb(158,202,225)\", \"line\": {\"color\": \"rgb(8,48,107)\", \"width\": 1.5}}, \"name\": \"idx=floor(val/(n+1)*k)\", \"showlegend\": false, \"type\": \"bar\", \"uid\": \"ba2d1c03-e132-4af9-97fc-53b1ab591d9b\", \"x\": [0, 1, 2], \"xaxis\": \"x9\", \"y\": [9, 10, 9], \"yaxis\": \"y9\"}],\n",
       "                        {\"annotations\": [{\"font\": {\"size\": 16}, \"showarrow\": false, \"text\": \"k=3,n=20\", \"x\": 0.14444444444444446, \"xanchor\": \"center\", \"xref\": \"paper\", \"y\": 1.0, \"yanchor\": \"bottom\", \"yref\": \"paper\"}, {\"font\": {\"size\": 16}, \"showarrow\": false, \"text\": \"k=3,n=21\", \"x\": 0.5, \"xanchor\": \"center\", \"xref\": \"paper\", \"y\": 1.0, \"yanchor\": \"bottom\", \"yref\": \"paper\"}, {\"font\": {\"size\": 16}, \"showarrow\": false, \"text\": \"k=3,n=22\", \"x\": 0.8555555555555556, \"xanchor\": \"center\", \"xref\": \"paper\", \"y\": 1.0, \"yanchor\": \"bottom\", \"yref\": \"paper\"}, {\"font\": {\"size\": 16}, \"showarrow\": false, \"text\": \"k=3,n=23\", \"x\": 0.14444444444444446, \"xanchor\": \"center\", \"xref\": \"paper\", \"y\": 0.6111111111111112, \"yanchor\": \"bottom\", \"yref\": \"paper\"}, {\"font\": {\"size\": 16}, \"showarrow\": false, \"text\": \"k=3,n=24\", \"x\": 0.5, \"xanchor\": \"center\", \"xref\": \"paper\", \"y\": 0.6111111111111112, \"yanchor\": \"bottom\", \"yref\": \"paper\"}, {\"font\": {\"size\": 16}, \"showarrow\": false, \"text\": \"k=3,n=25\", \"x\": 0.8555555555555556, \"xanchor\": \"center\", \"xref\": \"paper\", \"y\": 0.6111111111111112, \"yanchor\": \"bottom\", \"yref\": \"paper\"}, {\"font\": {\"size\": 16}, \"showarrow\": false, \"text\": \"k=3,n=26\", \"x\": 0.14444444444444446, \"xanchor\": \"center\", \"xref\": \"paper\", \"y\": 0.22222222222222224, \"yanchor\": \"bottom\", \"yref\": \"paper\"}, {\"font\": {\"size\": 16}, \"showarrow\": false, \"text\": \"k=3,n=27\", \"x\": 0.5, \"xanchor\": \"center\", \"xref\": \"paper\", \"y\": 0.22222222222222224, \"yanchor\": \"bottom\", \"yref\": \"paper\"}, {\"font\": {\"size\": 16}, \"showarrow\": false, \"text\": \"k=3,n=28\", \"x\": 0.8555555555555556, \"xanchor\": \"center\", \"xref\": \"paper\", \"y\": 0.22222222222222224, \"yanchor\": \"bottom\", \"yref\": \"paper\"}], \"title\": {\"text\": \"Bucketing with 3 buckets as n grows from 20 to 29\"}, \"xaxis\": {\"anchor\": \"y\", \"domain\": [0.0, 0.2888888888888889], \"dtick\": 1}, \"xaxis2\": {\"anchor\": \"y2\", \"domain\": [0.35555555555555557, 0.6444444444444445], \"dtick\": 1}, \"xaxis3\": {\"anchor\": \"y3\", \"domain\": [0.7111111111111111, 1.0], \"dtick\": 1}, \"xaxis4\": {\"anchor\": \"y4\", \"domain\": [0.0, 0.2888888888888889], \"dtick\": 1}, \"xaxis5\": {\"anchor\": \"y5\", \"domain\": [0.35555555555555557, 0.6444444444444445], \"dtick\": 1}, \"xaxis6\": {\"anchor\": \"y6\", \"domain\": [0.7111111111111111, 1.0], \"dtick\": 1}, \"xaxis7\": {\"anchor\": \"y7\", \"domain\": [0.0, 0.2888888888888889], \"dtick\": 1}, \"xaxis8\": {\"anchor\": \"y8\", \"domain\": [0.35555555555555557, 0.6444444444444445], \"dtick\": 1}, \"xaxis9\": {\"anchor\": \"y9\", \"domain\": [0.7111111111111111, 1.0], \"dtick\": 1}, \"yaxis\": {\"anchor\": \"x\", \"domain\": [0.7777777777777778, 1.0], \"dtick\": 1}, \"yaxis2\": {\"anchor\": \"x2\", \"domain\": [0.7777777777777778, 1.0], \"dtick\": 1}, \"yaxis3\": {\"anchor\": \"x3\", \"domain\": [0.7777777777777778, 1.0], \"dtick\": 1}, \"yaxis4\": {\"anchor\": \"x4\", \"domain\": [0.3888888888888889, 0.6111111111111112], \"dtick\": 1}, \"yaxis5\": {\"anchor\": \"x5\", \"domain\": [0.3888888888888889, 0.6111111111111112], \"dtick\": 1}, \"yaxis6\": {\"anchor\": \"x6\", \"domain\": [0.3888888888888889, 0.6111111111111112], \"dtick\": 1}, \"yaxis7\": {\"anchor\": \"x7\", \"domain\": [0.0, 0.22222222222222224], \"dtick\": 1}, \"yaxis8\": {\"anchor\": \"x8\", \"domain\": [0.0, 0.22222222222222224], \"dtick\": 1}, \"yaxis9\": {\"anchor\": \"x9\", \"domain\": [0.0, 0.22222222222222224], \"dtick\": 1}},\n",
       "                        {\"showLink\": false, \"linkText\": \"Export to plot.ly\", \"plotlyServerURL\": \"https://plot.ly\", \"responsive\": true}\n",
       "                    ).then(function(){\n",
       "                            \n",
       "var gd = document.getElementById('148278af-4dbb-43a8-9e1c-0a7ffcaaa633');\n",
       "var x = new MutationObserver(function (mutations, observer) {{\n",
       "        var display = window.getComputedStyle(gd).display;\n",
       "        if (!display || display === 'none') {{\n",
       "            console.log([gd, 'removed!']);\n",
       "            Plotly.purge(gd);\n",
       "            observer.disconnect();\n",
       "        }}\n",
       "}});\n",
       "\n",
       "// Listen for the removal of the full notebook cells\n",
       "var notebookContainer = gd.closest('#notebook-container');\n",
       "if (notebookContainer) {{\n",
       "    x.observe(notebookContainer, {childList: true});\n",
       "}}\n",
       "\n",
       "// Listen for the clearing of the current output cell\n",
       "var outputEl = gd.closest('.output');\n",
       "if (outputEl) {{\n",
       "    x.observe(outputEl, {childList: true});\n",
       "}}\n",
       "\n",
       "                        })\n",
       "                };\n",
       "                });\n",
       "            </script>\n",
       "        </div>"
      ]
     },
     "metadata": {},
     "output_type": "display_data"
    }
   ],
   "source": [
    "from math import ceil,floor\n",
    "# r: rows, c: columns,k: buckets,n: bucket size, start: first n\n",
    "# we are going to have r*c buckets\n",
    "r=3\n",
    "c=3\n",
    "k=3\n",
    "start=20\n",
    "end=start+r*c\n",
    "all_buckets=[]\n",
    "\n",
    "def test_function(min_v,max_v, k, method):\n",
    "    arr = [i for i in range(min_v,max_v+1)]\n",
    "    return method(arr, k) \n",
    "\n",
    "# GENERATE end-start examples BUCKETS WITH BOTH BUCKET FUNCTIONS \n",
    "\n",
    "all_buckets=[test_function(min_v=1,max_v=i,k=3,method=bucketer_1) for i in range(start,end)]\n",
    "\n",
    "# GENERATE BASIS FOR THE PLOTS, THE PLOT WILL HAVE R*C subplots\n",
    "\n",
    "subplot_titles=[\"k={},n={}\".format(k,start+i)  for i in range(r*c)]\n",
    "fig = tools.make_subplots(rows=r,cols=c,subplot_titles=subplot_titles)\n",
    "fig['layout'].update(title=\"Bucketing with {} buckets as n grows from {} to {}\".format(k,start,end))\n",
    "\n",
    "    \n",
    "# LOOP THROUGH ALL THE BUCKET PAIRS \n",
    "for i, buckets in enumerate(all_buckets): \n",
    "    input1=buckets\n",
    "    x_input1=[i for i in range(len(input1))]\n",
    "    y_input1=[len(i) for i in input1]\n",
    "\n",
    "    # SHOW LEGEND ONLY FOR 1.st PLOT\n",
    "    showlegend= True if i == 0 else False\n",
    "    \n",
    "    \n",
    "    # GENERATE BARS FOR THE PLOT, KEEP BAR1 bars IN ITS OWN GROUP AND BAR2 IN ITS OWN GROUP\n",
    "    bar1=go.Bar(x=x_input1,\\\n",
    "                y=y_input1,\\\n",
    "                legendgroup='group',\\\n",
    "                name='idx=floor(val/(n+1)*k)',\\\n",
    "                showlegend=showlegend,\n",
    "                marker=dict(\\\n",
    "                            color='rgb(158,202,225)',\n",
    "                            line=dict(\\\n",
    "                                      color='rgb(8,48,107)',\\\n",
    "                                      width=1.5,\n",
    "                                     )\n",
    "                           )\n",
    "               )\n",
    "    \n",
    "    \n",
    "    \n",
    "    \n",
    "    # CHOOSE ROW BASED ON INDEX DIVISION BY COL, AND COLUMN BASED ON INDEX MODULUS DIVISION BY COL\n",
    "    current_row=ceil((i+1)/c)\n",
    "    current_col=(i)%c +1 \n",
    "    \n",
    "    # APPEN BARS TO CHARS\n",
    "    fig.append_trace(bar1,current_row,current_col)\n",
    "    \n",
    "#fig['layout'].update(xaxis1=dict(dtick=1),xaxis2=dict(dtick=1))\n",
    "\n",
    "# UPDATE X,Y dticks to 10 on all subplots\n",
    "for i in range(1,r*c+1):\n",
    "    fig['layout']['xaxis{}'.format(i)].update(dtick=1)\n",
    "    fig['layout']['yaxis{}'.format(i)].update(dtick=1)\n",
    "\n",
    "    \n",
    "# SHOW THE GENERATED PLOT\n",
    "\n",
    "iplot(fig)\n",
    "    \n",
    "\n",
    "\n",
    "\n"
   ]
  },
  {
   "cell_type": "markdown",
   "metadata": {},
   "source": [
    "Bucketing when the values in the array are not between [1..n] but instead [c..n] where c<n. \n",
    "In that case the floor($\\frac{val}{n+1}*k$) changes into floor($\\frac{val-c}{n+1-c}*k$). In that case you are just moving the gap [c..n] to [c-c..n-c] and performing the same operations as presented in the upper parts. "
   ]
  },
  {
   "cell_type": "code",
   "execution_count": null,
   "metadata": {},
   "outputs": [],
   "source": []
  }
 ],
 "metadata": {
  "kernelspec": {
   "display_name": "Python 3",
   "language": "python",
   "name": "python3"
  },
  "language_info": {
   "codemirror_mode": {
    "name": "ipython",
    "version": 3
   },
   "file_extension": ".py",
   "mimetype": "text/x-python",
   "name": "python",
   "nbconvert_exporter": "python",
   "pygments_lexer": "ipython3",
   "version": "3.6.7"
  },
  "pycharm": {
   "stem_cell": {
    "cell_type": "raw",
    "metadata": {
     "collapsed": false
    },
    "source": []
   }
  }
 },
 "nbformat": 4,
 "nbformat_minor": 1
}